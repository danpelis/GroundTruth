{
 "cells": [
  {
   "cell_type": "markdown",
   "metadata": {},
   "source": [
    "# Classifiers {-}\n",
    "## EE627 {-}\n",
    "### Connor DePalma & Daniel Pelis - Ground Truth {-}"
   ]
  },
  {
   "cell_type": "code",
   "execution_count": 8,
   "metadata": {},
   "outputs": [],
   "source": [
    "import numpy as np"
   ]
  },
  {
   "cell_type": "code",
   "execution_count": 9,
   "metadata": {},
   "outputs": [],
   "source": [
    "with open('gbtSuggestions.csv','w') as f:\n",
    "    row = 'TrackID,Predictor\\n'\n",
    "    f.write(row)"
   ]
  },
  {
   "cell_type": "code",
   "execution_count": 10,
   "metadata": {},
   "outputs": [],
   "source": [
    "dataDir='./data/'\n",
    "file_name_ratings=dataDir + 'output1.txt'\n",
    "ratings = open(file_name_ratings, 'r')\n",
    "with open(dataDir + 'gbt_weights.csv','r') as f:\n",
    "    weights = f.readlines()[1]"
   ]
  },
  {
   "cell_type": "code",
   "execution_count": 11,
   "metadata": {},
   "outputs": [],
   "source": [
    "weightList = [float(i) for i in weights.strip().split(',')]"
   ]
  },
  {
   "cell_type": "code",
   "execution_count": 12,
   "metadata": {},
   "outputs": [
    {
     "data": {
      "text/plain": [
       "[0.21206789182631944, 0.22481202380666993, 0.5631200843670104]"
      ]
     },
     "execution_count": 12,
     "metadata": {},
     "output_type": "execute_result"
    }
   ],
   "source": [
    "weightList"
   ]
  },
  {
   "cell_type": "code",
   "execution_count": 13,
   "metadata": {},
   "outputs": [],
   "source": [
    "trackID_vec=[0]*6\n",
    "albumRate_vec=[0]*6\n",
    "artistRate_vec=[0]*6\n",
    "genreRate_vec=[0]*6\n",
    "lastUserID=-1\n",
    "ii=0"
   ]
  },
  {
   "cell_type": "code",
   "execution_count": 14,
   "metadata": {},
   "outputs": [],
   "source": [
    "for line in ratings:\n",
    "    arr_rating=line.strip().split('|')\n",
    "    userID= arr_rating[0]\n",
    "    trackID= arr_rating[1]\n",
    "    arr_rating = list(map(float, arr_rating))\n",
    "    albumRate= arr_rating[2]\n",
    "    artistRate=arr_rating[3]\n",
    "    genreRate = 0\n",
    "    if len(arr_rating) > 4:\n",
    "        genreRate = np.mean(arr_rating[4:])\n",
    "        \n",
    "    if userID != lastUserID:\n",
    "        ii=0\n",
    "\n",
    "    trackID_vec[ii]=trackID\n",
    "    albumRate_vec[ii]=albumRate\n",
    "    artistRate_vec[ii]=artistRate\n",
    "    genreRate_vec[ii] = genreRate\n",
    "    \n",
    "    ii=ii+1\n",
    "    lastUserID=userID\n",
    "    \n",
    "    if ii == 6:\n",
    "        total_ratings = {}\n",
    "        for nn in range(0, 6):\n",
    "            total_ratings[trackID_vec[nn]] = albumRate_vec[nn] * weightList[0]  + artistRate_vec[nn] * weightList[1] + genreRate_vec[nn] * weightList[2]\n",
    "\n",
    "        total_ratings_sorted = total_ratings.copy()\n",
    "        total_ratings_sorted = {k: v for k, v in sorted(total_ratings.items(), key=lambda item: item[1], reverse=True)}\n",
    "        \n",
    "        suggest = [0,0,0,1,1,1]\n",
    "        for key in total_ratings_sorted.keys():\n",
    "            total_ratings[key] = suggest.pop()\n",
    "        \n",
    "        with open('gbtSuggestions.csv','a') as f:\n",
    "            for item_id, value in total_ratings.items():\n",
    "                row = f'{userID}_{item_id},{value}\\n'\n",
    "                f.write(row)"
   ]
  },
  {
   "cell_type": "code",
   "execution_count": null,
   "metadata": {},
   "outputs": [],
   "source": []
  },
  {
   "cell_type": "code",
   "execution_count": null,
   "metadata": {},
   "outputs": [],
   "source": []
  }
 ],
 "metadata": {
  "kernelspec": {
   "display_name": "bigdata",
   "language": "python",
   "name": "bigdata"
  },
  "language_info": {
   "codemirror_mode": {
    "name": "ipython",
    "version": 3
   },
   "file_extension": ".py",
   "mimetype": "text/x-python",
   "name": "python",
   "nbconvert_exporter": "python",
   "pygments_lexer": "ipython3",
   "version": "3.7.9"
  }
 },
 "nbformat": 4,
 "nbformat_minor": 4
}
