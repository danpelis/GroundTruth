{
 "cells": [
  {
   "cell_type": "markdown",
   "metadata": {},
   "source": [
    "# Method 1 Cassifiers {-}\n",
    "## EE627 {-}\n",
    "### Connor DePalma & Daniel Pelis - Ground Truth {-}"
   ]
  },
  {
   "cell_type": "code",
   "execution_count": 1,
   "metadata": {},
   "outputs": [],
   "source": [
    "from pyspark.sql import SparkSession"
   ]
  },
  {
   "cell_type": "code",
   "execution_count": 2,
   "metadata": {},
   "outputs": [],
   "source": [
    "import pandas as pd\n",
    "import numpy as np"
   ]
  },
  {
   "cell_type": "code",
   "execution_count": 3,
   "metadata": {},
   "outputs": [],
   "source": [
    "pred = spark.read.format(\"csv\").option(\"header\", \"true\").load('./predictor_response_improved.csv')"
   ]
  },
  {
   "cell_type": "code",
   "execution_count": 4,
   "metadata": {},
   "outputs": [
    {
     "data": {
      "text/plain": [
       "[Row(userID='200031', trackID='30877', recommendation='1.0', album='90.0', artist='50.0', num_genre='2', max='90.0', min='80.0', mean='85.0', variance='50.0', median='85.0'),\n",
       " Row(userID='200031', trackID='8244', recommendation='1.0', album='90.0', artist=None, num_genre='2', max='90.0', min='80.0', mean='85.0', variance='50.0', median='85.0'),\n",
       " Row(userID='200031', trackID='130183', recommendation='0.0', album=None, artist=None, num_genre='0', max=None, min=None, mean=None, variance=None, median=None),\n",
       " Row(userID='200031', trackID='198762', recommendation='0.0', album=None, artist=None, num_genre='1', max='90.0', min='90.0', mean='90.0', variance=None, median='90.0'),\n",
       " Row(userID='200031', trackID='34503', recommendation='1.0', album='90.0', artist='50.0', num_genre='2', max='90.0', min='80.0', mean='85.0', variance='50.0', median='85.0')]"
      ]
     },
     "execution_count": 4,
     "metadata": {},
     "output_type": "execute_result"
    }
   ],
   "source": [
    "pred.take(5)"
   ]
  },
  {
   "cell_type": "code",
   "execution_count": 5,
   "metadata": {},
   "outputs": [
    {
     "name": "stdout",
     "output_type": "stream",
     "text": [
      "root\n",
      " |-- AlbumID: float (nullable = true)\n",
      " |-- ArtistID: float (nullable = true)\n",
      " |-- GenreID_avg: float (nullable = true)\n",
      " |-- Labels: string (nullable = true)\n",
      "\n"
     ]
    }
   ],
   "source": [
    "pred = pred.withColumn(\"AlbumID\", pred[\"AlbumID\"].cast('float'))\n",
    "pred = pred.withColumn(\"ArtistID\", pred[\"ArtistID\"].cast('float'))\n",
    "pred = pred.withColumn(\"GenreID_avg\", pred[\"GenreID_avg\"].cast('float'))\n",
    "#pred = pred.withColumn(\"Labels\", pred[\"Labels\"].cast('float'))\n",
    "\n",
    "pred = pred.select('AlbumID', 'ArtistID', 'GenreID_avg', 'Labels')\n",
    "cols = pred.columns\n",
    "pred.printSchema()"
   ]
  },
  {
   "cell_type": "code",
   "execution_count": 6,
   "metadata": {},
   "outputs": [],
   "source": [
    "from pyspark.ml.feature import OneHotEncoder,StringIndexer, VectorAssembler\n",
    "stages = []\n",
    "label_stringIdx = StringIndexer(inputCol = 'Labels', outputCol = 'label')\n",
    "stages += [label_stringIdx]\n",
    "numericCols = ['AlbumID', 'ArtistID', 'GenreID_avg']\n",
    "assembler = VectorAssembler(inputCols=numericCols, outputCol=\"features\")\n",
    "stages += [assembler.setHandleInvalid(\"skip\")]"
   ]
  },
  {
   "cell_type": "code",
   "execution_count": 7,
   "metadata": {},
   "outputs": [
    {
     "data": {
      "text/plain": [
       "[StringIndexer_a02f7dc8094d, VectorAssembler_23c794b5e418]"
      ]
     },
     "execution_count": 7,
     "metadata": {},
     "output_type": "execute_result"
    }
   ],
   "source": [
    "stages"
   ]
  },
  {
   "cell_type": "code",
   "execution_count": 8,
   "metadata": {
    "scrolled": true
   },
   "outputs": [
    {
     "name": "stdout",
     "output_type": "stream",
     "text": [
      "root\n",
      " |-- label: double (nullable = false)\n",
      " |-- features: vector (nullable = true)\n",
      " |-- AlbumID: float (nullable = true)\n",
      " |-- ArtistID: float (nullable = true)\n",
      " |-- GenreID_avg: float (nullable = true)\n",
      " |-- Labels: string (nullable = true)\n",
      "\n"
     ]
    }
   ],
   "source": [
    "from pyspark.ml import Pipeline\n",
    "pipeline = Pipeline(stages = stages)\n",
    "pipelineModel = pipeline.fit(pred)\n",
    "pred = pipelineModel.transform(pred)\n",
    "selectedCols = ['label', 'features'] + cols\n",
    "pred = pred.select(selectedCols)\n",
    "pred.printSchema()"
   ]
  },
  {
   "cell_type": "code",
   "execution_count": 9,
   "metadata": {},
   "outputs": [
    {
     "data": {
      "text/html": [
       "<div>\n",
       "<style scoped>\n",
       "    .dataframe tbody tr th:only-of-type {\n",
       "        vertical-align: middle;\n",
       "    }\n",
       "\n",
       "    .dataframe tbody tr th {\n",
       "        vertical-align: top;\n",
       "    }\n",
       "\n",
       "    .dataframe thead th {\n",
       "        text-align: right;\n",
       "    }\n",
       "</style>\n",
       "<table border=\"1\" class=\"dataframe\">\n",
       "  <thead>\n",
       "    <tr style=\"text-align: right;\">\n",
       "      <th></th>\n",
       "      <th>0</th>\n",
       "      <th>1</th>\n",
       "      <th>2</th>\n",
       "      <th>3</th>\n",
       "      <th>4</th>\n",
       "    </tr>\n",
       "  </thead>\n",
       "  <tbody>\n",
       "    <tr>\n",
       "      <th>label</th>\n",
       "      <td>1</td>\n",
       "      <td>1</td>\n",
       "      <td>1</td>\n",
       "      <td>1</td>\n",
       "      <td>1</td>\n",
       "    </tr>\n",
       "    <tr>\n",
       "      <th>features</th>\n",
       "      <td>[90.0, 50.0, 85.0]</td>\n",
       "      <td>[90.0, 50.0, 85.0]</td>\n",
       "      <td>[90.0, 90.0, 100.0]</td>\n",
       "      <td>[90.0, 70.0, 80.0]</td>\n",
       "      <td>[90.0, 90.0, 80.0]</td>\n",
       "    </tr>\n",
       "    <tr>\n",
       "      <th>AlbumID</th>\n",
       "      <td>90</td>\n",
       "      <td>90</td>\n",
       "      <td>90</td>\n",
       "      <td>90</td>\n",
       "      <td>90</td>\n",
       "    </tr>\n",
       "    <tr>\n",
       "      <th>ArtistID</th>\n",
       "      <td>50</td>\n",
       "      <td>50</td>\n",
       "      <td>90</td>\n",
       "      <td>70</td>\n",
       "      <td>90</td>\n",
       "    </tr>\n",
       "    <tr>\n",
       "      <th>GenreID_avg</th>\n",
       "      <td>85</td>\n",
       "      <td>85</td>\n",
       "      <td>100</td>\n",
       "      <td>80</td>\n",
       "      <td>80</td>\n",
       "    </tr>\n",
       "    <tr>\n",
       "      <th>Labels</th>\n",
       "      <td>1.0</td>\n",
       "      <td>1.0</td>\n",
       "      <td>1.0</td>\n",
       "      <td>1.0</td>\n",
       "      <td>1.0</td>\n",
       "    </tr>\n",
       "  </tbody>\n",
       "</table>\n",
       "</div>"
      ],
      "text/plain": [
       "                              0                   1                    2  \\\n",
       "label                         1                   1                    1   \n",
       "features     [90.0, 50.0, 85.0]  [90.0, 50.0, 85.0]  [90.0, 90.0, 100.0]   \n",
       "AlbumID                      90                  90                   90   \n",
       "ArtistID                     50                  50                   90   \n",
       "GenreID_avg                  85                  85                  100   \n",
       "Labels                      1.0                 1.0                  1.0   \n",
       "\n",
       "                              3                   4  \n",
       "label                         1                   1  \n",
       "features     [90.0, 70.0, 80.0]  [90.0, 90.0, 80.0]  \n",
       "AlbumID                      90                  90  \n",
       "ArtistID                     70                  90  \n",
       "GenreID_avg                  80                  80  \n",
       "Labels                      1.0                 1.0  "
      ]
     },
     "execution_count": 9,
     "metadata": {},
     "output_type": "execute_result"
    }
   ],
   "source": [
    "pd.DataFrame(pred.take(5), columns=pred.columns).transpose()"
   ]
  },
  {
   "cell_type": "code",
   "execution_count": 10,
   "metadata": {},
   "outputs": [
    {
     "ename": "NameError",
     "evalue": "name 'df' is not defined",
     "output_type": "error",
     "traceback": [
      "\u001b[0;31m---------------------------------------------------------------------------\u001b[0m",
      "\u001b[0;31mNameError\u001b[0m                                 Traceback (most recent call last)",
      "\u001b[0;32m<ipython-input-10-72648e359973>\u001b[0m in \u001b[0;36m<module>\u001b[0;34m\u001b[0m\n\u001b[1;32m      1\u001b[0m \u001b[0;31m# we split the last 76 users X 6 tracks = 468 records as the training\u001b[0m\u001b[0;34m\u001b[0m\u001b[0;34m\u001b[0m\u001b[0;34m\u001b[0m\u001b[0m\n\u001b[1;32m      2\u001b[0m \u001b[0;31m# the first 50 users X 6 tracks = 300 records as the testing\u001b[0m\u001b[0;34m\u001b[0m\u001b[0;34m\u001b[0m\u001b[0;34m\u001b[0m\u001b[0m\n\u001b[0;32m----> 3\u001b[0;31m \u001b[0mtrain\u001b[0m \u001b[0;34m=\u001b[0m \u001b[0mdf\u001b[0m\u001b[0;34m.\u001b[0m\u001b[0mwhere\u001b[0m\u001b[0;34m(\u001b[0m\u001b[0mcol\u001b[0m\u001b[0;34m(\u001b[0m\u001b[0;34m\"userID\"\u001b[0m\u001b[0;34m)\u001b[0m\u001b[0;34m.\u001b[0m\u001b[0mbetween\u001b[0m\u001b[0;34m(\u001b[0m\u001b[0;36m200596\u001b[0m\u001b[0;34m,\u001b[0m \u001b[0;36m201720\u001b[0m\u001b[0;34m)\u001b[0m\u001b[0;34m)\u001b[0m\u001b[0;34m\u001b[0m\u001b[0;34m\u001b[0m\u001b[0m\n\u001b[0m\u001b[1;32m      4\u001b[0m \u001b[0mtest\u001b[0m \u001b[0;34m=\u001b[0m \u001b[0mdf\u001b[0m\u001b[0;34m.\u001b[0m\u001b[0mwhere\u001b[0m\u001b[0;34m(\u001b[0m\u001b[0mcol\u001b[0m\u001b[0;34m(\u001b[0m\u001b[0;34m\"userID\"\u001b[0m\u001b[0;34m)\u001b[0m\u001b[0;34m.\u001b[0m\u001b[0mbetween\u001b[0m\u001b[0;34m(\u001b[0m\u001b[0;36m200031\u001b[0m\u001b[0;34m,\u001b[0m \u001b[0;36m200563\u001b[0m\u001b[0;34m)\u001b[0m\u001b[0;34m)\u001b[0m\u001b[0;34m\u001b[0m\u001b[0;34m\u001b[0m\u001b[0m\n\u001b[1;32m      5\u001b[0m \u001b[0mprint\u001b[0m\u001b[0;34m(\u001b[0m\u001b[0;34m\"Training Dataset Count: \"\u001b[0m \u001b[0;34m+\u001b[0m \u001b[0mstr\u001b[0m\u001b[0;34m(\u001b[0m\u001b[0mtrain\u001b[0m\u001b[0;34m.\u001b[0m\u001b[0mcount\u001b[0m\u001b[0;34m(\u001b[0m\u001b[0;34m)\u001b[0m\u001b[0;34m)\u001b[0m\u001b[0;34m)\u001b[0m\u001b[0;34m\u001b[0m\u001b[0;34m\u001b[0m\u001b[0m\n",
      "\u001b[0;31mNameError\u001b[0m: name 'df' is not defined"
     ]
    }
   ],
   "source": [
    "# we split the last 76 users X 6 tracks = 468 records as the training \n",
    "# the first 50 users X 6 tracks = 300 records as the testing  \n",
    "train = df.where(col(\"userID\").between(200596, 201720))\n",
    "test = df.where(col(\"userID\").between(200031, 200563))\n",
    "print(\"Training Dataset Count: \" + str(train.count()))\n",
    "print(\"Test Dataset Count: \" + str(test.count()))"
   ]
  },
  {
   "cell_type": "code",
   "execution_count": 11,
   "metadata": {},
   "outputs": [
    {
     "name": "stdout",
     "output_type": "stream",
     "text": [
      "Training Dataset Count:  713\n",
      "Test Dataset Count:  288\n"
     ]
    }
   ],
   "source": [
    "train, test = pred.randomSplit([0.7, 0.3], seed = 2018)\n",
    "print(\"Training Dataset Count:  \" + str(train.count()))\n",
    "print(\"Test Dataset Count:  \" + str(test.count()))"
   ]
  },
  {
   "cell_type": "markdown",
   "metadata": {},
   "source": [
    "### Logistic Regression Classifier {-}"
   ]
  },
  {
   "cell_type": "code",
   "execution_count": 11,
   "metadata": {},
   "outputs": [],
   "source": [
    "from pyspark.ml.classification import LogisticRegression\n",
    "\n",
    "lr = LogisticRegression(featuresCol = 'features', labelCol ='label', maxIter=10)\n",
    "lrModel = lr.fit(train)"
   ]
  },
  {
   "cell_type": "code",
   "execution_count": 12,
   "metadata": {},
   "outputs": [],
   "source": [
    "pd.DataFrame(np.array(lrModel.coefficients)).transpose().to_csv('logit_weights.csv',index=False)"
   ]
  },
  {
   "cell_type": "code",
   "execution_count": 13,
   "metadata": {},
   "outputs": [
    {
     "data": {
      "image/png": "[encoded data removed]",
      "text/plain": [
       "<Figure size 432x288 with 1 Axes>"
      ]
     },
     "metadata": {
      "needs_background": "light"
     },
     "output_type": "display_data"
    },
    {
     "data": {
      "text/plain": [
       "array([-0.04061402,  0.0168386 ,  0.03251565])"
      ]
     },
     "execution_count": 13,
     "metadata": {},
     "output_type": "execute_result"
    }
   ],
   "source": [
    "import matplotlib.pyplot as plt\n",
    "beta = np.sort(lrModel.coefficients)\n",
    "plt.plot(beta)\n",
    "plt.ylabel('Beta Coefficients')\n",
    "plt.show()\n",
    "beta"
   ]
  },
  {
   "cell_type": "code",
   "execution_count": 14,
   "metadata": {},
   "outputs": [
    {
     "data": {
      "image/png": "[encoded data removed]",
      "text/plain": [
       "<Figure size 432x288 with 1 Axes>"
      ]
     },
     "metadata": {
      "needs_background": "light"
     },
     "output_type": "display_data"
    },
    {
     "name": "stdout",
     "output_type": "stream",
     "text": [
      "Training set areaUnderROC: 0.7910279991825057\n"
     ]
    }
   ],
   "source": [
    "trainingSummary = lrModel.summary\n",
    "roc = trainingSummary.roc.toPandas()\n",
    "plt.plot(roc['FPR'],roc['TPR'])\n",
    "plt.ylabel('False Positive Rate')\n",
    "plt.xlabel('True Positive Rate')\n",
    "plt.title('ROC Curve')\n",
    "plt.show()\n",
    "print('Training set areaUnderROC: ' + str(trainingSummary.areaUnderROC))"
   ]
  },
  {
   "cell_type": "code",
   "execution_count": 15,
   "metadata": {},
   "outputs": [
    {
     "name": "stdout",
     "output_type": "stream",
     "text": [
      "+-------+--------+-----------+-----+--------------------+----------+--------------------+\n",
      "|AlbumID|ArtistID|GenreID_avg|label|       rawPrediction|prediction|         probability|\n",
      "+-------+--------+-----------+-----+--------------------+----------+--------------------+\n",
      "|    0.0|     0.0|       50.0|  0.0|[-1.5705687280484...|       1.0|[0.17213533016778...|\n",
      "|   50.0|    86.0|       89.0|  0.0|[-3.0605245253457...|       1.0|[0.04476526828713...|\n",
      "|   70.0|    70.0|       87.5|  0.0|[-3.5023410281941...|       1.0|[0.02924569476618...|\n",
      "|   70.0|    90.0|       90.0|  0.0|[-3.7375780074942...|       1.0|[0.02325789498171...|\n",
      "|   90.0|    90.0|       90.0|  0.0|[-4.3878911017348...|       1.0|[0.01227437614045...|\n",
      "|    0.0|     0.0|        0.0|  1.0|[-3.6012695232599...|       1.0|[0.02656414588146...|\n",
      "|    0.0|     0.0|       15.0|  1.0|[-2.9920592846965...|       1.0|[0.04778590013035...|\n",
      "|    0.0|    50.0|       50.0|  1.0|[-2.4124987757001...|       1.0|[0.08222455436812...|\n",
      "|    0.0|    90.0|        0.0|  1.0|[-5.1167436090330...|       1.0|[0.00595978291436...|\n",
      "|    0.0|    90.0|       54.0|  1.0|[-2.9235867502045...|       1.0|[0.05099982652282...|\n",
      "+-------+--------+-----------+-----+--------------------+----------+--------------------+\n",
      "only showing top 10 rows\n",
      "\n"
     ]
    }
   ],
   "source": [
    "predictions = lrModel.transform(test)\n",
    "predictions.select('AlbumID', 'ArtistID', 'GenreID_avg', 'label', 'rawPrediction','prediction', 'probability').show(10)"
   ]
  },
  {
   "cell_type": "markdown",
   "metadata": {},
   "source": [
    "### Decision Tree Classifier {-}"
   ]
  },
  {
   "cell_type": "code",
   "execution_count": 16,
   "metadata": {},
   "outputs": [
    {
     "name": "stdout",
     "output_type": "stream",
     "text": [
      "Test Area Under ROC 0.8720848056537103\n"
     ]
    }
   ],
   "source": [
    "from pyspark.ml.evaluation import BinaryClassificationEvaluator\n",
    "evaluator = BinaryClassificationEvaluator()\n",
    "print('Test Area Under ROC', evaluator.evaluate(predictions))"
   ]
  },
  {
   "cell_type": "code",
   "execution_count": 17,
   "metadata": {},
   "outputs": [
    {
     "name": "stdout",
     "output_type": "stream",
     "text": [
      "+-------+--------+-----------+-----+-------------+----------+--------------------+\n",
      "|AlbumID|ArtistID|GenreID_avg|label|rawPrediction|prediction|         probability|\n",
      "+-------+--------+-----------+-----+-------------+----------+--------------------+\n",
      "|    0.0|     0.0|       50.0|  0.0|    [4.0,7.0]|       1.0|[0.36363636363636...|\n",
      "|   50.0|    86.0|       89.0|  0.0|  [9.0,688.0]|       1.0|[0.01291248206599...|\n",
      "|   70.0|    70.0|       87.5|  0.0|  [9.0,688.0]|       1.0|[0.01291248206599...|\n",
      "|   70.0|    90.0|       90.0|  0.0|  [9.0,688.0]|       1.0|[0.01291248206599...|\n",
      "|   90.0|    90.0|       90.0|  0.0|  [9.0,688.0]|       1.0|[0.01291248206599...|\n",
      "|    0.0|     0.0|        0.0|  1.0|    [0.0,4.0]|       1.0|           [0.0,1.0]|\n",
      "|    0.0|     0.0|       15.0|  1.0|    [1.0,0.0]|       0.0|           [1.0,0.0]|\n",
      "|    0.0|    50.0|       50.0|  1.0|    [4.0,7.0]|       1.0|[0.36363636363636...|\n",
      "|    0.0|    90.0|        0.0|  1.0|    [0.0,4.0]|       1.0|           [0.0,1.0]|\n",
      "|    0.0|    90.0|       54.0|  1.0|    [4.0,7.0]|       1.0|[0.36363636363636...|\n",
      "+-------+--------+-----------+-----+-------------+----------+--------------------+\n",
      "only showing top 10 rows\n",
      "\n"
     ]
    }
   ],
   "source": [
    "from pyspark.ml.classification import DecisionTreeClassifier\n",
    "dt = DecisionTreeClassifier(featuresCol = 'features', labelCol = 'label',maxDepth = 3)\n",
    "dtModel = dt.fit(train)\n",
    "predictions = dtModel.transform(test)\n",
    "predictions.select('AlbumID', 'ArtistID', 'GenreID_avg', 'label', 'rawPrediction','prediction', 'probability').show(10)"
   ]
  },
  {
   "cell_type": "code",
   "execution_count": 18,
   "metadata": {},
   "outputs": [
    {
     "name": "stdout",
     "output_type": "stream",
     "text": [
      "Test Area Under ROC 0.588339222614841\n"
     ]
    }
   ],
   "source": [
    "evaluator = BinaryClassificationEvaluator()\n",
    "print('Test Area Under ROC', evaluator.evaluate(predictions))"
   ]
  },
  {
   "cell_type": "code",
   "execution_count": 19,
   "metadata": {},
   "outputs": [],
   "source": [
    "pd.DataFrame(dtModel.featureImportances.toArray()).transpose().to_csv('dt_weights.csv',index=False)"
   ]
  },
  {
   "cell_type": "markdown",
   "metadata": {},
   "source": [
    "### Random Forest Classifier {-}"
   ]
  },
  {
   "cell_type": "code",
   "execution_count": 20,
   "metadata": {},
   "outputs": [
    {
     "name": "stdout",
     "output_type": "stream",
     "text": [
      "+-------+--------+-----------+-----+--------------------+----------+--------------------+\n",
      "|AlbumID|ArtistID|GenreID_avg|label|       rawPrediction|prediction|         probability|\n",
      "+-------+--------+-----------+-----+--------------------+----------+--------------------+\n",
      "|    0.0|     0.0|       50.0|  0.0|[5.56475054176167...|       1.0|[0.27823752708808...|\n",
      "|   50.0|    86.0|       89.0|  0.0|[0.48005919838361...|       1.0|[0.02400295991918...|\n",
      "|   70.0|    70.0|       87.5|  0.0|[0.25691317945035...|       1.0|[0.01284565897251...|\n",
      "|   70.0|    90.0|       90.0|  0.0|[0.25691317945035...|       1.0|[0.01284565897251...|\n",
      "|   90.0|    90.0|       90.0|  0.0|[0.25691317945035...|       1.0|[0.01284565897251...|\n",
      "|    0.0|     0.0|        0.0|  1.0|[2.01793069494182...|       1.0|[0.10089653474709...|\n",
      "|    0.0|     0.0|       15.0|  1.0|[6.23141720842833...|       1.0|[0.31157086042141...|\n",
      "|    0.0|    50.0|       50.0|  1.0|[1.88593048903330...|       1.0|[0.09429652445166...|\n",
      "|    0.0|    90.0|        0.0|  1.0|[0.55259715569996...|       1.0|[0.02762985778499...|\n",
      "|    0.0|    90.0|       54.0|  1.0|[1.88593048903330...|       1.0|[0.09429652445166...|\n",
      "+-------+--------+-----------+-----+--------------------+----------+--------------------+\n",
      "only showing top 10 rows\n",
      "\n"
     ]
    }
   ],
   "source": [
    "from pyspark.ml.classification import RandomForestClassifier\n",
    "rf = RandomForestClassifier(featuresCol = 'features', labelCol = 'label',maxDepth = 3)\n",
    "rfModel = rf.fit(train)\n",
    "predictions = rfModel.transform(test)\n",
    "predictions.select('AlbumID', 'ArtistID', 'GenreID_avg', 'label', 'rawPrediction','prediction', 'probability').show(10)"
   ]
  },
  {
   "cell_type": "code",
   "execution_count": 21,
   "metadata": {},
   "outputs": [
    {
     "name": "stdout",
     "output_type": "stream",
     "text": [
      "Test Area Under ROC 0.830035335689046\n"
     ]
    }
   ],
   "source": [
    "evaluator = BinaryClassificationEvaluator()\n",
    "print('Test Area Under ROC', evaluator.evaluate(predictions))"
   ]
  },
  {
   "cell_type": "code",
   "execution_count": 22,
   "metadata": {},
   "outputs": [],
   "source": [
    "pd.DataFrame(rfModel.featureImportances.toArray()).transpose().to_csv('rf_weights.csv',index=False)"
   ]
  },
  {
   "cell_type": "markdown",
   "metadata": {},
   "source": [
    "### Gradient-Boosted Tree Classifier {-}"
   ]
  },
  {
   "cell_type": "code",
   "execution_count": 23,
   "metadata": {},
   "outputs": [
    {
     "name": "stdout",
     "output_type": "stream",
     "text": [
      "+-------+--------+-----------+-----+--------------------+----------+--------------------+\n",
      "|AlbumID|ArtistID|GenreID_avg|label|       rawPrediction|prediction|         probability|\n",
      "+-------+--------+-----------+-----+--------------------+----------+--------------------+\n",
      "|    0.0|     0.0|       50.0|  0.0|[-1.0511367034057...|       1.0|[0.10887605437824...|\n",
      "|   50.0|    86.0|       89.0|  0.0|[-1.2918048682529...|       1.0|[0.07020074813253...|\n",
      "|   70.0|    70.0|       87.5|  0.0|[-1.3158214696991...|       1.0|[0.06712949139283...|\n",
      "|   70.0|    90.0|       90.0|  0.0|[-1.2734310514322...|       1.0|[0.07263757512455...|\n",
      "|   90.0|    90.0|       90.0|  0.0|[-1.2668748251742...|       1.0|[0.07352581248092...|\n",
      "|    0.0|     0.0|        0.0|  1.0|[-1.3258436542613...|       1.0|[0.06588508926788...|\n",
      "|    0.0|     0.0|       15.0|  1.0|[0.91211076576471...|       0.0|[0.86107190671756...|\n",
      "|    0.0|    50.0|       50.0|  1.0|[-1.6276453109659...|       1.0|[0.03713724096459...|\n",
      "|    0.0|    90.0|        0.0|  1.0|[-1.3259026792203...|       1.0|[0.06587782434721...|\n",
      "|    0.0|    90.0|       54.0|  1.0|[-1.5373435906153...|       1.0|[0.04416354373341...|\n",
      "+-------+--------+-----------+-----+--------------------+----------+--------------------+\n",
      "only showing top 10 rows\n",
      "\n"
     ]
    }
   ],
   "source": [
    "from pyspark.ml.classification import GBTClassifier\n",
    "gbt = GBTClassifier(maxIter=10)\n",
    "gbtModel = gbt.fit(train)\n",
    "predictions = gbtModel.transform(test)\n",
    "predictions.select('AlbumID', 'ArtistID', 'GenreID_avg', 'label', 'rawPrediction','prediction', 'probability').show(10)"
   ]
  },
  {
   "cell_type": "code",
   "execution_count": 24,
   "metadata": {},
   "outputs": [
    {
     "name": "stdout",
     "output_type": "stream",
     "text": [
      "Test Area Under ROC 0.6805653710247349\n"
     ]
    }
   ],
   "source": [
    "evaluator = BinaryClassificationEvaluator()\n",
    "print('Test Area Under ROC', evaluator.evaluate(predictions))"
   ]
  },
  {
   "cell_type": "code",
   "execution_count": 25,
   "metadata": {},
   "outputs": [],
   "source": [
    "pd.DataFrame(gbtModel.featureImportances.toArray()).transpose().to_csv('gbt_weights.csv',index=False)"
   ]
  },
  {
   "cell_type": "markdown",
   "metadata": {},
   "source": [
    "### Gradient-Boosted Tree Cross-Validated Classifier {-}"
   ]
  },
  {
   "cell_type": "code",
   "execution_count": 26,
   "metadata": {},
   "outputs": [],
   "source": [
    "from pyspark.ml.tuning import ParamGridBuilder, CrossValidator\n",
    "paramGrid = (ParamGridBuilder()\n",
    "             .addGrid(gbt.maxDepth, [2, 4, 6])\n",
    "             .addGrid(gbt.maxBins, [20, 60])\n",
    "             .addGrid(gbt.maxIter, [10, 20])\n",
    "             .build())\n",
    "cv_gbt = CrossValidator(estimator=gbt, estimatorParamMaps=paramGrid,evaluator=evaluator, numFolds=5)\n",
    "cv_gbtModel = cv_gbt.fit(train)\n",
    "predictions = cv_gbtModel.transform(test)"
   ]
  },
  {
   "cell_type": "code",
   "execution_count": 27,
   "metadata": {},
   "outputs": [
    {
     "name": "stdout",
     "output_type": "stream",
     "text": [
      "Test Area Under ROC 0.7851590106007067\n"
     ]
    }
   ],
   "source": [
    "evaluator = BinaryClassificationEvaluator()\n",
    "print('Test Area Under ROC', evaluator.evaluate(predictions))"
   ]
  },
  {
   "cell_type": "code",
   "execution_count": 28,
   "metadata": {},
   "outputs": [],
   "source": [
    "pd.DataFrame(gbtModel.featureImportances.toArray()).transpose().to_csv('gbt_tuned_weights.csv',index=False)"
   ]
  },
  {
   "cell_type": "markdown",
   "metadata": {},
   "source": [
    "### Random Forest Cross-Validated Classifier {-}"
   ]
  },
  {
   "cell_type": "code",
   "execution_count": 29,
   "metadata": {},
   "outputs": [],
   "source": [
    "from pyspark.ml.tuning import ParamGridBuilder, CrossValidator\n",
    "paramGrid = (ParamGridBuilder()\n",
    "             .addGrid(rf.maxDepth, [2, 4, 6])\n",
    "             .addGrid(rf.maxBins, [20, 60])\n",
    "             .addGrid(rf.numTrees, [10, 20, 50, 100])\n",
    "             .build())\n",
    "cv_rf = CrossValidator(estimator=rf, estimatorParamMaps=paramGrid,evaluator=evaluator, numFolds=5)\n",
    "cv_rfModel = cv_rf.fit(train)\n",
    "predictions = cv_rfModel.transform(test)"
   ]
  },
  {
   "cell_type": "code",
   "execution_count": 30,
   "metadata": {},
   "outputs": [
    {
     "name": "stdout",
     "output_type": "stream",
     "text": [
      "Test Area Under ROC 0.819434628975265\n"
     ]
    }
   ],
   "source": [
    "evaluator = BinaryClassificationEvaluator()\n",
    "print('Test Area Under ROC', evaluator.evaluate(predictions))"
   ]
  },
  {
   "cell_type": "code",
   "execution_count": 31,
   "metadata": {},
   "outputs": [],
   "source": [
    "pd.DataFrame(gbtModel.featureImportances.toArray()).transpose().to_csv('rf_tuned_weights.csv',index=False)"
   ]
  }
 ],
 "metadata": {
  "kernelspec": {
   "display_name": "bigdata",
   "language": "python",
   "name": "bigdata"
  },
  "language_info": {
   "codemirror_mode": {
    "name": "ipython",
    "version": 3
   },
   "file_extension": ".py",
   "mimetype": "text/x-python",
   "name": "python",
   "nbconvert_exporter": "python",
   "pygments_lexer": "ipython3",
   "version": "3.7.9"
  }
 },
 "nbformat": 4,
 "nbformat_minor": 4
}
