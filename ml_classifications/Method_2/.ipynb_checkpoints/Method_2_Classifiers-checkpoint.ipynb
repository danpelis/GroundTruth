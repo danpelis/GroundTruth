{
 "cells": [
  {
   "cell_type": "markdown",
   "metadata": {},
   "source": [
    "# Method 2 Classifiers {-}\n",
    "## EE627 {-}\n",
    "### Connor DePalma & Daniel Pelis - Ground Truth {-}"
   ]
  },
  {
   "cell_type": "code",
   "execution_count": 1,
   "metadata": {},
   "outputs": [
    {
     "name": "stdout",
     "output_type": "stream",
     "text": [
      "root\n",
      " |-- userID: integer (nullable = true)\n",
      " |-- trackID: integer (nullable = true)\n",
      " |-- recommendation: string (nullable = true)\n",
      " |-- album: double (nullable = true)\n",
      " |-- artist: double (nullable = true)\n",
      " |-- num_genre: integer (nullable = true)\n",
      " |-- max: double (nullable = true)\n",
      " |-- min: double (nullable = true)\n",
      " |-- mean: double (nullable = true)\n",
      " |-- variance: double (nullable = true)\n",
      " |-- median: double (nullable = true)\n",
      "\n"
     ]
    }
   ],
   "source": [
    "from pyspark.ml.classification import LogisticRegression\n",
    "from pyspark.sql.types import StringType\n",
    "import scipy.stats as ss\n",
    "# please download 'ratings.csv' from week 12 on canvas\n",
    "spark = SparkSession.builder.appName('recommend-ML').getOrCreate()\n",
    "df = spark.read.csv('predictor_response_improved.csv', header = True, inferSchema = True)\n",
    "test_df = spark.read.csv('test_set.csv', header = True, inferSchema = True)\n",
    "cols = df.columns\n",
    "df = df.withColumn(\"recommendation\", df[\"recommendation\"].cast(StringType()))\n",
    "test_df = test_df.withColumn(\"recommendation\", test_df[\"recommendation\"].cast(StringType()))\n",
    "\n",
    "\n",
    "df.printSchema()"
   ]
  },
  {
   "cell_type": "code",
   "execution_count": 2,
   "metadata": {},
   "outputs": [
    {
     "name": "stdout",
     "output_type": "stream",
     "text": [
      "root\n",
      " |-- userID: integer (nullable = true)\n",
      " |-- trackID: integer (nullable = true)\n",
      " |-- recommendation: string (nullable = true)\n",
      " |-- album: integer (nullable = true)\n",
      " |-- artist: integer (nullable = true)\n",
      " |-- num_genre: integer (nullable = true)\n",
      " |-- max: integer (nullable = true)\n",
      " |-- min: integer (nullable = true)\n",
      " |-- mean: double (nullable = true)\n",
      " |-- variance: double (nullable = true)\n",
      " |-- median: double (nullable = true)\n",
      "\n"
     ]
    }
   ],
   "source": [
    "test_df.printSchema()"
   ]
  },
  {
   "cell_type": "code",
   "execution_count": 3,
   "metadata": {},
   "outputs": [
    {
     "data": {
      "text/plain": [
       "120000"
      ]
     },
     "execution_count": 3,
     "metadata": {},
     "output_type": "execute_result"
    }
   ],
   "source": [
    "test_df.count()"
   ]
  },
  {
   "cell_type": "code",
   "execution_count": 4,
   "metadata": {},
   "outputs": [],
   "source": [
    "from pyspark.ml.feature import OneHotEncoder, StringIndexer, VectorAssembler"
   ]
  },
  {
   "cell_type": "code",
   "execution_count": 5,
   "metadata": {},
   "outputs": [],
   "source": [
    "numericCols = ['album', 'artist', 'num_genre', 'max', 'min', 'mean', 'variance', 'median']\n",
    "stages = []\n",
    "assemblerInputs =  numericCols\n",
    "assembler = VectorAssembler(inputCols=assemblerInputs, outputCol=\"features\")\n",
    "stages += [assembler]"
   ]
  },
  {
   "cell_type": "code",
   "execution_count": 6,
   "metadata": {},
   "outputs": [],
   "source": [
    "label_stringIdx = StringIndexer(inputCol = 'recommendation', outputCol = 'label')\n",
    "stages += [label_stringIdx]"
   ]
  },
  {
   "cell_type": "code",
   "execution_count": 7,
   "metadata": {},
   "outputs": [
    {
     "name": "stdout",
     "output_type": "stream",
     "text": [
      "root\n",
      " |-- label: double (nullable = false)\n",
      " |-- features: vector (nullable = true)\n",
      " |-- userID: integer (nullable = true)\n",
      " |-- trackID: integer (nullable = true)\n",
      " |-- recommendation: string (nullable = true)\n",
      " |-- album: double (nullable = true)\n",
      " |-- artist: double (nullable = true)\n",
      " |-- num_genre: integer (nullable = true)\n",
      " |-- max: double (nullable = true)\n",
      " |-- min: double (nullable = true)\n",
      " |-- mean: double (nullable = true)\n",
      " |-- variance: double (nullable = true)\n",
      " |-- median: double (nullable = true)\n",
      "\n"
     ]
    }
   ],
   "source": [
    "from pyspark.ml import Pipeline\n",
    "pipeline = Pipeline(stages = stages)\n",
    "\n",
    "pipelineModel = pipeline.fit(df)\n",
    "df = pipelineModel.transform(df)\n",
    "\n",
    "pipelineModel_test = pipeline.fit(test_df)\n",
    "test_df = pipelineModel_test.transform(test_df)\n",
    "\n",
    "selectedCols = ['label', 'features'] + cols\n",
    "df = df.select(selectedCols)\n",
    "test_df = test_df.select(selectedCols)\n",
    "\n",
    "df.printSchema()"
   ]
  },
  {
   "cell_type": "code",
   "execution_count": 8,
   "metadata": {},
   "outputs": [
    {
     "name": "stdout",
     "output_type": "stream",
     "text": [
      "+-----+--------------------+------+-------+--------------+-----+------+---------+---+---+----+--------+------+\n",
      "|label|            features|userID|trackID|recommendation|album|artist|num_genre|max|min|mean|variance|median|\n",
      "+-----+--------------------+------+-------+--------------+-----+------+---------+---+---+----+--------+------+\n",
      "|  0.0|           (8,[],[])|199810| 208019|             0|    0|     0|        0|  0|  0| 0.0|     0.0|   0.0|\n",
      "|  0.0|[0.0,0.0,1.0,80.0...|199810|  74139|             0|    0|     0|        1| 80| 80|80.0|     0.0|  80.0|\n",
      "|  0.0|           (8,[],[])|199810|   9903|             0|    0|     0|        0|  0|  0| 0.0|     0.0|   0.0|\n",
      "|  0.0|           (8,[],[])|199810| 242681|             0|    0|     0|        0|  0|  0| 0.0|     0.0|   0.0|\n",
      "|  0.0|      (8,[1],[70.0])|199810|  18515|             0|    0|    70|        0|  0|  0| 0.0|     0.0|   0.0|\n",
      "|  0.0|[0.0,90.0,2.0,80....|199810| 105760|             0|    0|    90|        2| 80| 80|80.0|     0.0|  80.0|\n",
      "|  0.0|           (8,[],[])|199812| 276940|             0|    0|     0|        0|  0|  0| 0.0|     0.0|   0.0|\n",
      "|  0.0|[100.0,100.0,2.0,...|199812| 142408|             0|  100|   100|        2| 80| 80|80.0|     0.0|  80.0|\n",
      "|  0.0|[100.0,100.0,2.0,...|199812| 130023|             0|  100|   100|        2| 80| 80|80.0|     0.0|  80.0|\n",
      "|  0.0|[0.0,0.0,1.0,80.0...|199812|  29189|             0|    0|     0|        1| 80| 80|80.0|     0.0|  80.0|\n",
      "|  0.0|[0.0,100.0,1.0,80...|199812| 223706|             0|    0|   100|        1| 80| 80|80.0|     0.0|  80.0|\n",
      "|  0.0|           (8,[],[])|199812| 211361|             0|    0|     0|        0|  0|  0| 0.0|     0.0|   0.0|\n",
      "|  0.0|[0.0,90.0,1.0,80....|199813| 188441|             0|    0|    90|        1| 80| 80|80.0|     0.0|  80.0|\n",
      "|  0.0|[0.0,0.0,2.0,80.0...|199813|  20968|             0|    0|     0|        2| 80| 80|80.0|     0.0|  80.0|\n",
      "|  0.0|(8,[0,1],[90.0,90...|199813|  21571|             0|   90|    90|        0|  0|  0| 0.0|     0.0|   0.0|\n",
      "|  0.0|[0.0,90.0,2.0,80....|199813|  79640|             0|    0|    90|        2| 80| 80|80.0|     0.0|  80.0|\n",
      "|  0.0|[0.0,70.0,1.0,80....|199813| 184173|             0|    0|    70|        1| 80| 80|80.0|     0.0|  80.0|\n",
      "|  0.0|[0.0,0.0,2.0,80.0...|199813| 111874|             0|    0|     0|        2| 80| 80|80.0|     0.0|  80.0|\n",
      "|  0.0|           (8,[],[])|199814| 122375|             0|    0|     0|        0|  0|  0| 0.0|     0.0|   0.0|\n",
      "|  0.0|(8,[0,1],[75.0,75...|199814| 189043|             0|   75|    75|        0|  0|  0| 0.0|     0.0|   0.0|\n",
      "+-----+--------------------+------+-------+--------------+-----+------+---------+---+---+----+--------+------+\n",
      "only showing top 20 rows\n",
      "\n"
     ]
    }
   ],
   "source": [
    "test_df.show()"
   ]
  },
  {
   "cell_type": "code",
   "execution_count": 9,
   "metadata": {},
   "outputs": [
    {
     "data": {
      "text/html": [
       "<div>\n",
       "<style scoped>\n",
       "    .dataframe tbody tr th:only-of-type {\n",
       "        vertical-align: middle;\n",
       "    }\n",
       "\n",
       "    .dataframe tbody tr th {\n",
       "        vertical-align: top;\n",
       "    }\n",
       "\n",
       "    .dataframe thead th {\n",
       "        text-align: right;\n",
       "    }\n",
       "</style>\n",
       "<table border=\"1\" class=\"dataframe\">\n",
       "  <thead>\n",
       "    <tr style=\"text-align: right;\">\n",
       "      <th></th>\n",
       "      <th>0</th>\n",
       "      <th>1</th>\n",
       "      <th>2</th>\n",
       "      <th>3</th>\n",
       "      <th>4</th>\n",
       "    </tr>\n",
       "  </thead>\n",
       "  <tbody>\n",
       "    <tr>\n",
       "      <th>label</th>\n",
       "      <td>1</td>\n",
       "      <td>1</td>\n",
       "      <td>0</td>\n",
       "      <td>0</td>\n",
       "      <td>1</td>\n",
       "    </tr>\n",
       "    <tr>\n",
       "      <th>features</th>\n",
       "      <td>[90.0, 50.0, 2.0, 90.0, 80.0, 85.0, 50.0, 85.0]</td>\n",
       "      <td>[90.0, 0.0, 2.0, 90.0, 80.0, 85.0, 50.0, 85.0]</td>\n",
       "      <td>(0.0, 0.0, 0.0, 0.0, 0.0, 0.0, 0.0, 0.0)</td>\n",
       "      <td>[0.0, 0.0, 1.0, 90.0, 90.0, 90.0, 0.0, 90.0]</td>\n",
       "      <td>[90.0, 50.0, 2.0, 90.0, 80.0, 85.0, 50.0, 85.0]</td>\n",
       "    </tr>\n",
       "    <tr>\n",
       "      <th>userID</th>\n",
       "      <td>200031</td>\n",
       "      <td>200031</td>\n",
       "      <td>200031</td>\n",
       "      <td>200031</td>\n",
       "      <td>200031</td>\n",
       "    </tr>\n",
       "    <tr>\n",
       "      <th>trackID</th>\n",
       "      <td>30877</td>\n",
       "      <td>8244</td>\n",
       "      <td>130183</td>\n",
       "      <td>198762</td>\n",
       "      <td>34503</td>\n",
       "    </tr>\n",
       "    <tr>\n",
       "      <th>recommendation</th>\n",
       "      <td>1.0</td>\n",
       "      <td>1.0</td>\n",
       "      <td>0.0</td>\n",
       "      <td>0.0</td>\n",
       "      <td>1.0</td>\n",
       "    </tr>\n",
       "    <tr>\n",
       "      <th>album</th>\n",
       "      <td>90</td>\n",
       "      <td>90</td>\n",
       "      <td>0</td>\n",
       "      <td>0</td>\n",
       "      <td>90</td>\n",
       "    </tr>\n",
       "    <tr>\n",
       "      <th>artist</th>\n",
       "      <td>50</td>\n",
       "      <td>0</td>\n",
       "      <td>0</td>\n",
       "      <td>0</td>\n",
       "      <td>50</td>\n",
       "    </tr>\n",
       "    <tr>\n",
       "      <th>num_genre</th>\n",
       "      <td>2</td>\n",
       "      <td>2</td>\n",
       "      <td>0</td>\n",
       "      <td>1</td>\n",
       "      <td>2</td>\n",
       "    </tr>\n",
       "    <tr>\n",
       "      <th>max</th>\n",
       "      <td>90</td>\n",
       "      <td>90</td>\n",
       "      <td>0</td>\n",
       "      <td>90</td>\n",
       "      <td>90</td>\n",
       "    </tr>\n",
       "    <tr>\n",
       "      <th>min</th>\n",
       "      <td>80</td>\n",
       "      <td>80</td>\n",
       "      <td>0</td>\n",
       "      <td>90</td>\n",
       "      <td>80</td>\n",
       "    </tr>\n",
       "    <tr>\n",
       "      <th>mean</th>\n",
       "      <td>85</td>\n",
       "      <td>85</td>\n",
       "      <td>0</td>\n",
       "      <td>90</td>\n",
       "      <td>85</td>\n",
       "    </tr>\n",
       "    <tr>\n",
       "      <th>variance</th>\n",
       "      <td>50</td>\n",
       "      <td>50</td>\n",
       "      <td>0</td>\n",
       "      <td>0</td>\n",
       "      <td>50</td>\n",
       "    </tr>\n",
       "    <tr>\n",
       "      <th>median</th>\n",
       "      <td>85</td>\n",
       "      <td>85</td>\n",
       "      <td>0</td>\n",
       "      <td>90</td>\n",
       "      <td>85</td>\n",
       "    </tr>\n",
       "  </tbody>\n",
       "</table>\n",
       "</div>"
      ],
      "text/plain": [
       "                                                              0  \\\n",
       "label                                                         1   \n",
       "features        [90.0, 50.0, 2.0, 90.0, 80.0, 85.0, 50.0, 85.0]   \n",
       "userID                                                   200031   \n",
       "trackID                                                   30877   \n",
       "recommendation                                              1.0   \n",
       "album                                                        90   \n",
       "artist                                                       50   \n",
       "num_genre                                                     2   \n",
       "max                                                          90   \n",
       "min                                                          80   \n",
       "mean                                                         85   \n",
       "variance                                                     50   \n",
       "median                                                       85   \n",
       "\n",
       "                                                             1  \\\n",
       "label                                                        1   \n",
       "features        [90.0, 0.0, 2.0, 90.0, 80.0, 85.0, 50.0, 85.0]   \n",
       "userID                                                  200031   \n",
       "trackID                                                   8244   \n",
       "recommendation                                             1.0   \n",
       "album                                                       90   \n",
       "artist                                                       0   \n",
       "num_genre                                                    2   \n",
       "max                                                         90   \n",
       "min                                                         80   \n",
       "mean                                                        85   \n",
       "variance                                                    50   \n",
       "median                                                      85   \n",
       "\n",
       "                                                       2  \\\n",
       "label                                                  0   \n",
       "features        (0.0, 0.0, 0.0, 0.0, 0.0, 0.0, 0.0, 0.0)   \n",
       "userID                                            200031   \n",
       "trackID                                           130183   \n",
       "recommendation                                       0.0   \n",
       "album                                                  0   \n",
       "artist                                                 0   \n",
       "num_genre                                              0   \n",
       "max                                                    0   \n",
       "min                                                    0   \n",
       "mean                                                   0   \n",
       "variance                                               0   \n",
       "median                                                 0   \n",
       "\n",
       "                                                           3  \\\n",
       "label                                                      0   \n",
       "features        [0.0, 0.0, 1.0, 90.0, 90.0, 90.0, 0.0, 90.0]   \n",
       "userID                                                200031   \n",
       "trackID                                               198762   \n",
       "recommendation                                           0.0   \n",
       "album                                                      0   \n",
       "artist                                                     0   \n",
       "num_genre                                                  1   \n",
       "max                                                       90   \n",
       "min                                                       90   \n",
       "mean                                                      90   \n",
       "variance                                                   0   \n",
       "median                                                    90   \n",
       "\n",
       "                                                              4  \n",
       "label                                                         1  \n",
       "features        [90.0, 50.0, 2.0, 90.0, 80.0, 85.0, 50.0, 85.0]  \n",
       "userID                                                   200031  \n",
       "trackID                                                   34503  \n",
       "recommendation                                              1.0  \n",
       "album                                                        90  \n",
       "artist                                                       50  \n",
       "num_genre                                                     2  \n",
       "max                                                          90  \n",
       "min                                                          80  \n",
       "mean                                                         85  \n",
       "variance                                                     50  \n",
       "median                                                       85  "
      ]
     },
     "execution_count": 9,
     "metadata": {},
     "output_type": "execute_result"
    }
   ],
   "source": [
    "import pandas as pd\n",
    "a = pd.DataFrame(df.take(5), columns=df.columns).transpose()\n",
    "b = pd.DataFrame(test_df.take(5), columns=test_df.columns).transpose()\n",
    "a"
   ]
  },
  {
   "cell_type": "code",
   "execution_count": 10,
   "metadata": {},
   "outputs": [
    {
     "data": {
      "text/html": [
       "<div>\n",
       "<style scoped>\n",
       "    .dataframe tbody tr th:only-of-type {\n",
       "        vertical-align: middle;\n",
       "    }\n",
       "\n",
       "    .dataframe tbody tr th {\n",
       "        vertical-align: top;\n",
       "    }\n",
       "\n",
       "    .dataframe thead th {\n",
       "        text-align: right;\n",
       "    }\n",
       "</style>\n",
       "<table border=\"1\" class=\"dataframe\">\n",
       "  <thead>\n",
       "    <tr style=\"text-align: right;\">\n",
       "      <th></th>\n",
       "      <th>0</th>\n",
       "      <th>1</th>\n",
       "      <th>2</th>\n",
       "      <th>3</th>\n",
       "      <th>4</th>\n",
       "    </tr>\n",
       "  </thead>\n",
       "  <tbody>\n",
       "    <tr>\n",
       "      <th>label</th>\n",
       "      <td>0</td>\n",
       "      <td>0</td>\n",
       "      <td>0</td>\n",
       "      <td>0</td>\n",
       "      <td>0</td>\n",
       "    </tr>\n",
       "    <tr>\n",
       "      <th>features</th>\n",
       "      <td>(0.0, 0.0, 0.0, 0.0, 0.0, 0.0, 0.0, 0.0)</td>\n",
       "      <td>[0.0, 0.0, 1.0, 80.0, 80.0, 80.0, 0.0, 80.0]</td>\n",
       "      <td>(0.0, 0.0, 0.0, 0.0, 0.0, 0.0, 0.0, 0.0)</td>\n",
       "      <td>(0.0, 0.0, 0.0, 0.0, 0.0, 0.0, 0.0, 0.0)</td>\n",
       "      <td>(0.0, 70.0, 0.0, 0.0, 0.0, 0.0, 0.0, 0.0)</td>\n",
       "    </tr>\n",
       "    <tr>\n",
       "      <th>userID</th>\n",
       "      <td>199810</td>\n",
       "      <td>199810</td>\n",
       "      <td>199810</td>\n",
       "      <td>199810</td>\n",
       "      <td>199810</td>\n",
       "    </tr>\n",
       "    <tr>\n",
       "      <th>trackID</th>\n",
       "      <td>208019</td>\n",
       "      <td>74139</td>\n",
       "      <td>9903</td>\n",
       "      <td>242681</td>\n",
       "      <td>18515</td>\n",
       "    </tr>\n",
       "    <tr>\n",
       "      <th>recommendation</th>\n",
       "      <td>0</td>\n",
       "      <td>0</td>\n",
       "      <td>0</td>\n",
       "      <td>0</td>\n",
       "      <td>0</td>\n",
       "    </tr>\n",
       "    <tr>\n",
       "      <th>album</th>\n",
       "      <td>0</td>\n",
       "      <td>0</td>\n",
       "      <td>0</td>\n",
       "      <td>0</td>\n",
       "      <td>0</td>\n",
       "    </tr>\n",
       "    <tr>\n",
       "      <th>artist</th>\n",
       "      <td>0</td>\n",
       "      <td>0</td>\n",
       "      <td>0</td>\n",
       "      <td>0</td>\n",
       "      <td>70</td>\n",
       "    </tr>\n",
       "    <tr>\n",
       "      <th>num_genre</th>\n",
       "      <td>0</td>\n",
       "      <td>1</td>\n",
       "      <td>0</td>\n",
       "      <td>0</td>\n",
       "      <td>0</td>\n",
       "    </tr>\n",
       "    <tr>\n",
       "      <th>max</th>\n",
       "      <td>0</td>\n",
       "      <td>80</td>\n",
       "      <td>0</td>\n",
       "      <td>0</td>\n",
       "      <td>0</td>\n",
       "    </tr>\n",
       "    <tr>\n",
       "      <th>min</th>\n",
       "      <td>0</td>\n",
       "      <td>80</td>\n",
       "      <td>0</td>\n",
       "      <td>0</td>\n",
       "      <td>0</td>\n",
       "    </tr>\n",
       "    <tr>\n",
       "      <th>mean</th>\n",
       "      <td>0</td>\n",
       "      <td>80</td>\n",
       "      <td>0</td>\n",
       "      <td>0</td>\n",
       "      <td>0</td>\n",
       "    </tr>\n",
       "    <tr>\n",
       "      <th>variance</th>\n",
       "      <td>0</td>\n",
       "      <td>0</td>\n",
       "      <td>0</td>\n",
       "      <td>0</td>\n",
       "      <td>0</td>\n",
       "    </tr>\n",
       "    <tr>\n",
       "      <th>median</th>\n",
       "      <td>0</td>\n",
       "      <td>80</td>\n",
       "      <td>0</td>\n",
       "      <td>0</td>\n",
       "      <td>0</td>\n",
       "    </tr>\n",
       "  </tbody>\n",
       "</table>\n",
       "</div>"
      ],
      "text/plain": [
       "                                                       0  \\\n",
       "label                                                  0   \n",
       "features        (0.0, 0.0, 0.0, 0.0, 0.0, 0.0, 0.0, 0.0)   \n",
       "userID                                            199810   \n",
       "trackID                                           208019   \n",
       "recommendation                                         0   \n",
       "album                                                  0   \n",
       "artist                                                 0   \n",
       "num_genre                                              0   \n",
       "max                                                    0   \n",
       "min                                                    0   \n",
       "mean                                                   0   \n",
       "variance                                               0   \n",
       "median                                                 0   \n",
       "\n",
       "                                                           1  \\\n",
       "label                                                      0   \n",
       "features        [0.0, 0.0, 1.0, 80.0, 80.0, 80.0, 0.0, 80.0]   \n",
       "userID                                                199810   \n",
       "trackID                                                74139   \n",
       "recommendation                                             0   \n",
       "album                                                      0   \n",
       "artist                                                     0   \n",
       "num_genre                                                  1   \n",
       "max                                                       80   \n",
       "min                                                       80   \n",
       "mean                                                      80   \n",
       "variance                                                   0   \n",
       "median                                                    80   \n",
       "\n",
       "                                                       2  \\\n",
       "label                                                  0   \n",
       "features        (0.0, 0.0, 0.0, 0.0, 0.0, 0.0, 0.0, 0.0)   \n",
       "userID                                            199810   \n",
       "trackID                                             9903   \n",
       "recommendation                                         0   \n",
       "album                                                  0   \n",
       "artist                                                 0   \n",
       "num_genre                                              0   \n",
       "max                                                    0   \n",
       "min                                                    0   \n",
       "mean                                                   0   \n",
       "variance                                               0   \n",
       "median                                                 0   \n",
       "\n",
       "                                                       3  \\\n",
       "label                                                  0   \n",
       "features        (0.0, 0.0, 0.0, 0.0, 0.0, 0.0, 0.0, 0.0)   \n",
       "userID                                            199810   \n",
       "trackID                                           242681   \n",
       "recommendation                                         0   \n",
       "album                                                  0   \n",
       "artist                                                 0   \n",
       "num_genre                                              0   \n",
       "max                                                    0   \n",
       "min                                                    0   \n",
       "mean                                                   0   \n",
       "variance                                               0   \n",
       "median                                                 0   \n",
       "\n",
       "                                                        4  \n",
       "label                                                   0  \n",
       "features        (0.0, 70.0, 0.0, 0.0, 0.0, 0.0, 0.0, 0.0)  \n",
       "userID                                             199810  \n",
       "trackID                                             18515  \n",
       "recommendation                                          0  \n",
       "album                                                   0  \n",
       "artist                                                 70  \n",
       "num_genre                                               0  \n",
       "max                                                     0  \n",
       "min                                                     0  \n",
       "mean                                                    0  \n",
       "variance                                                0  \n",
       "median                                                  0  "
      ]
     },
     "execution_count": 10,
     "metadata": {},
     "output_type": "execute_result"
    }
   ],
   "source": [
    "b"
   ]
  },
  {
   "cell_type": "code",
   "execution_count": 11,
   "metadata": {},
   "outputs": [
    {
     "name": "stdout",
     "output_type": "stream",
     "text": [
      "Training Dataset Count: 4260\n",
      "Test Dataset Count: 1740\n"
     ]
    }
   ],
   "source": [
    "# below is the typical random split \n",
    "# of the train and test data sets\n",
    "# HOWEVER, our testing users have 6 tracks for each\n",
    "# We cannot use random split here\n",
    "train, test = df.randomSplit([0.7, 0.3], seed = 2018)\n",
    "print(\"Training Dataset Count: \" + str(train.count()))\n",
    "print(\"Test Dataset Count: \" + str(test.count()))"
   ]
  },
  {
   "cell_type": "code",
   "execution_count": 12,
   "metadata": {},
   "outputs": [
    {
     "name": "stdout",
     "output_type": "stream",
     "text": [
      "Training Dataset Count: 4800\n",
      "Test Dataset Count: 1200\n"
     ]
    }
   ],
   "source": [
    "# we split the first 800 users X 6 tracks = 4800 records as the training \n",
    "# the last 200 users X 6 tracks = 1200 records as the testing  \n",
    "train = df.where(df[\"userID\"].between(200031, 209930))\n",
    "test = df.where(df[\"userID\"].between(209946, 212234))\n",
    "print(\"Training Dataset Count: \" + str(train.count()))\n",
    "print(\"Test Dataset Count: \" + str(test.count()))"
   ]
  },
  {
   "cell_type": "code",
   "execution_count": 13,
   "metadata": {},
   "outputs": [],
   "source": [
    "# logistic regression in pySpark\n",
    "from pyspark.ml.classification import LogisticRegression\n",
    "lr = LogisticRegression(featuresCol = 'features', labelCol = 'label', maxIter=3)\n",
    "lrModel = lr.fit(train)"
   ]
  },
  {
   "cell_type": "code",
   "execution_count": 14,
   "metadata": {},
   "outputs": [
    {
     "data": {
      "image/png": "[encoded data removed]",
      "text/plain": [
       "<Figure size 432x288 with 1 Axes>"
      ]
     },
     "metadata": {
      "needs_background": "light"
     },
     "output_type": "display_data"
    }
   ],
   "source": [
    "import matplotlib.pyplot as plt\n",
    "import numpy as np\n",
    "beta = np.sort(lrModel.coefficients)\n",
    "plt.plot(beta)\n",
    "plt.ylabel('Beta Coefficients')\n",
    "plt.show()"
   ]
  },
  {
   "cell_type": "code",
   "execution_count": 15,
   "metadata": {},
   "outputs": [
    {
     "data": {
      "image/png": "[encoded data removed]",
      "text/plain": [
       "<Figure size 432x288 with 1 Axes>"
      ]
     },
     "metadata": {
      "needs_background": "light"
     },
     "output_type": "display_data"
    },
    {
     "name": "stdout",
     "output_type": "stream",
     "text": [
      "Training set areaUnderROC: 0.860879253472222\n"
     ]
    }
   ],
   "source": [
    "trainingSummary = lrModel.summary\n",
    "roc = trainingSummary.roc.toPandas()\n",
    "plt.plot(roc['FPR'],roc['TPR'])\n",
    "plt.ylabel('False Positive Rate')\n",
    "plt.xlabel('True Positive Rate')\n",
    "plt.title('ROC Curve')\n",
    "plt.show()\n",
    "print('Training set areaUnderROC: ' + str(trainingSummary.areaUnderROC))"
   ]
  },
  {
   "cell_type": "code",
   "execution_count": 16,
   "metadata": {},
   "outputs": [
    {
     "name": "stdout",
     "output_type": "stream",
     "text": [
      "+------+-------+-----+--------------------+--------------------+----------+\n",
      "|userID|trackID|label|         probability|       rawPrediction|prediction|\n",
      "+------+-------+-----+--------------------+--------------------+----------+\n",
      "|209946| 263727|  0.0|[0.78651300668792...|[1.30403335023263...|       0.0|\n",
      "|209946| 215312|  1.0|[0.03468880274458...|[-3.3260335861526...|       1.0|\n",
      "|209946|  14994|  0.0|[0.79681163662355...|[1.36648486314368...|       0.0|\n",
      "|209946|  72035|  1.0|[0.05616321783383...|[-2.8216911952617...|       1.0|\n",
      "|209946| 186039|  0.0|[0.75471091186509...|[1.12389731121284...|       0.0|\n",
      "|209946|  77246|  1.0|[0.04850353320998...|[-2.9763993284435...|       1.0|\n",
      "|209957| 246583|  0.0|[0.65011731538308...|[0.61955492032195...|       0.0|\n",
      "|209957|   6618|  0.0|[0.65011731538308...|[0.61955492032195...|       0.0|\n",
      "|209957| 131564|  1.0|[0.03468880274458...|[-3.3260335861526...|       1.0|\n",
      "|209957| 138333|  1.0|[0.65011731538308...|[0.61955492032195...|       0.0|\n",
      "|209957|  32226|  1.0|[0.65011731538308...|[0.61955492032195...|       0.0|\n",
      "|209957| 159969|  0.0|[0.65011731538308...|[0.61955492032195...|       0.0|\n",
      "+------+-------+-----+--------------------+--------------------+----------+\n",
      "only showing top 12 rows\n",
      "\n"
     ]
    }
   ],
   "source": [
    "predictions = lrModel.transform(test)\n",
    "predictions.select('userID', 'trackID', 'label', 'probability', \n",
    "                   'rawPrediction', 'prediction' ).show(12)"
   ]
  },
  {
   "cell_type": "code",
   "execution_count": 17,
   "metadata": {},
   "outputs": [
    {
     "name": "stdout",
     "output_type": "stream",
     "text": [
      "+------+-------+-----+--------------------+--------------------+----------+\n",
      "|userID|trackID|label|         probability|       rawPrediction|prediction|\n",
      "+------+-------+-----+--------------------+--------------------+----------+\n",
      "|209946|  14994|  0.0|[0.79681163662355...|[1.36648486314368...|       0.0|\n",
      "|209946| 263727|  0.0|[0.78651300668792...|[1.30403335023263...|       0.0|\n",
      "|209946| 186039|  0.0|[0.75471091186509...|[1.12389731121284...|       0.0|\n",
      "|209946|  72035|  1.0|[0.05616321783383...|[-2.8216911952617...|       1.0|\n",
      "|209946|  77246|  1.0|[0.04850353320998...|[-2.9763993284435...|       1.0|\n",
      "|209946| 215312|  1.0|[0.03468880274458...|[-3.3260335861526...|       1.0|\n",
      "+------+-------+-----+--------------------+--------------------+----------+\n",
      "only showing top 6 rows\n",
      "\n"
     ]
    }
   ],
   "source": [
    "# col(\"userID\").asc() sort the user ascending\n",
    "# col(\"probability\").desc() sort the probability descending (from large to small)\n",
    "from pyspark.sql.functions import col\n",
    "sort_predictions = predictions.select('userID', 'trackID', \n",
    "                                      'label', 'probability', \n",
    "                                      'rawPrediction', 'prediction' \n",
    "                                     ).sort(col(\"userID\").asc(), col(\"probability\").desc())\n",
    "sort_predictions.show(6)"
   ]
  },
  {
   "cell_type": "code",
   "execution_count": 18,
   "metadata": {},
   "outputs": [
    {
     "name": "stdout",
     "output_type": "stream",
     "text": [
      "+------+-------+-----+--------------------+--------------------+----------+\n",
      "|userID|trackID|label|         probability|       rawPrediction|prediction|\n",
      "+------+-------+-----+--------------------+--------------------+----------+\n",
      "|209946|  14994|  0.0|[0.79681163662355...|[1.36648486314368...|       0.0|\n",
      "|209946| 263727|  0.0|[0.78651300668792...|[1.30403335023263...|       0.0|\n",
      "|209946| 186039|  0.0|[0.75471091186509...|[1.12389731121284...|       0.0|\n",
      "|209946|  72035|  1.0|[0.05616321783383...|[-2.8216911952617...|       1.0|\n",
      "|209946|  77246|  1.0|[0.04850353320998...|[-2.9763993284435...|       1.0|\n",
      "|209946| 215312|  1.0|[0.03468880274458...|[-3.3260335861526...|       1.0|\n",
      "+------+-------+-----+--------------------+--------------------+----------+\n",
      "only showing top 6 rows\n",
      "\n"
     ]
    }
   ],
   "source": [
    "# probability column is where you can decide \n",
    "# the 3 tracks with highest \"probability\" for \"1\" and \n",
    "# the 3 tracks with lowest \"probability\" for \"0\" \n",
    "# tracks \"198762\", \"34503\", \"130183\" with \"1\"\n",
    "# tracks \"30877\", \"8244\", \"227283\" with \"0\"\n",
    "sort_predictions.show(6)"
   ]
  },
  {
   "cell_type": "code",
   "execution_count": 19,
   "metadata": {},
   "outputs": [],
   "source": [
    "sort_predictions = sort_predictions.toPandas()"
   ]
  },
  {
   "cell_type": "code",
   "execution_count": 20,
   "metadata": {},
   "outputs": [
    {
     "data": {
      "text/plain": [
       "0    0.203188\n",
       "1    0.213487\n",
       "2    0.245289\n",
       "3    0.943837\n",
       "4    0.951496\n",
       "5    0.965311\n",
       "Name: probability, dtype: float64"
      ]
     },
     "execution_count": 20,
     "metadata": {},
     "output_type": "execute_result"
    }
   ],
   "source": [
    "sort_predictions.probability.apply(lambda x: x[1]).iloc[:6]"
   ]
  },
  {
   "cell_type": "code",
   "execution_count": 21,
   "metadata": {},
   "outputs": [],
   "source": [
    "predictions_Test = lrModel.transform(test_df)"
   ]
  },
  {
   "cell_type": "code",
   "execution_count": 22,
   "metadata": {},
   "outputs": [],
   "source": [
    "preds = predictions_Test.select('userID', 'trackID', 'probability').toPandas()"
   ]
  },
  {
   "cell_type": "code",
   "execution_count": 23,
   "metadata": {},
   "outputs": [],
   "source": [
    "preds.probability = preds.probability.apply(lambda x: x[1])"
   ]
  },
  {
   "cell_type": "code",
   "execution_count": 24,
   "metadata": {},
   "outputs": [],
   "source": [
    "prob_ranked = preds.groupby(['userID'], sort=False).probability.apply(ss.rankdata, method='ordinal').reset_index(drop=True)"
   ]
  },
  {
   "cell_type": "code",
   "execution_count": 25,
   "metadata": {},
   "outputs": [],
   "source": [
    "prob_ranked = pd.DataFrame(np.array(prob_ranked.to_list()).reshape(120000,-1))"
   ]
  },
  {
   "cell_type": "code",
   "execution_count": 26,
   "metadata": {},
   "outputs": [],
   "source": [
    "preds['rank'] = prob_ranked"
   ]
  },
  {
   "cell_type": "code",
   "execution_count": 27,
   "metadata": {},
   "outputs": [],
   "source": [
    "prob_ranked[prob_ranked<=3] = 0\n",
    "prob_ranked[prob_ranked!=0] = 1"
   ]
  },
  {
   "cell_type": "code",
   "execution_count": 28,
   "metadata": {},
   "outputs": [],
   "source": [
    "preds['Predictor'] = prob_ranked"
   ]
  },
  {
   "cell_type": "code",
   "execution_count": 39,
   "metadata": {},
   "outputs": [
    {
     "data": {
      "text/html": [
       "<div>\n",
       "<style scoped>\n",
       "    .dataframe tbody tr th:only-of-type {\n",
       "        vertical-align: middle;\n",
       "    }\n",
       "\n",
       "    .dataframe tbody tr th {\n",
       "        vertical-align: top;\n",
       "    }\n",
       "\n",
       "    .dataframe thead th {\n",
       "        text-align: right;\n",
       "    }\n",
       "</style>\n",
       "<table border=\"1\" class=\"dataframe\">\n",
       "  <thead>\n",
       "    <tr style=\"text-align: right;\">\n",
       "      <th></th>\n",
       "      <th>userID</th>\n",
       "      <th>trackID</th>\n",
       "      <th>probability</th>\n",
       "      <th>rank</th>\n",
       "      <th>Predictor</th>\n",
       "    </tr>\n",
       "  </thead>\n",
       "  <tbody>\n",
       "    <tr>\n",
       "      <th>972</th>\n",
       "      <td>200176</td>\n",
       "      <td>74079</td>\n",
       "      <td>0.169789</td>\n",
       "      <td>1</td>\n",
       "      <td>0</td>\n",
       "    </tr>\n",
       "    <tr>\n",
       "      <th>973</th>\n",
       "      <td>200176</td>\n",
       "      <td>141029</td>\n",
       "      <td>0.349883</td>\n",
       "      <td>4</td>\n",
       "      <td>1</td>\n",
       "    </tr>\n",
       "    <tr>\n",
       "      <th>974</th>\n",
       "      <td>200176</td>\n",
       "      <td>216094</td>\n",
       "      <td>0.278599</td>\n",
       "      <td>2</td>\n",
       "      <td>0</td>\n",
       "    </tr>\n",
       "    <tr>\n",
       "      <th>975</th>\n",
       "      <td>200176</td>\n",
       "      <td>213072</td>\n",
       "      <td>0.952310</td>\n",
       "      <td>6</td>\n",
       "      <td>1</td>\n",
       "    </tr>\n",
       "    <tr>\n",
       "      <th>976</th>\n",
       "      <td>200176</td>\n",
       "      <td>213238</td>\n",
       "      <td>0.278599</td>\n",
       "      <td>3</td>\n",
       "      <td>0</td>\n",
       "    </tr>\n",
       "    <tr>\n",
       "      <th>977</th>\n",
       "      <td>200176</td>\n",
       "      <td>135745</td>\n",
       "      <td>0.349883</td>\n",
       "      <td>5</td>\n",
       "      <td>1</td>\n",
       "    </tr>\n",
       "  </tbody>\n",
       "</table>\n",
       "</div>"
      ],
      "text/plain": [
       "     userID  trackID  probability  rank  Predictor\n",
       "972  200176    74079     0.169789     1          0\n",
       "973  200176   141029     0.349883     4          1\n",
       "974  200176   216094     0.278599     2          0\n",
       "975  200176   213072     0.952310     6          1\n",
       "976  200176   213238     0.278599     3          0\n",
       "977  200176   135745     0.349883     5          1"
      ]
     },
     "execution_count": 39,
     "metadata": {},
     "output_type": "execute_result"
    }
   ],
   "source": [
    "preds[preds['userID'] == 200176]"
   ]
  },
  {
   "cell_type": "code",
   "execution_count": 31,
   "metadata": {},
   "outputs": [],
   "source": [
    "output = pd.DataFrame()\n",
    "output['TrackID'] = preds['userID'].astype(str) + '_' + preds['trackID'].astype(str)\n",
    "output['Predictor'] = preds['Predictor']"
   ]
  },
  {
   "cell_type": "code",
   "execution_count": 36,
   "metadata": {},
   "outputs": [
    {
     "data": {
      "text/html": [
       "<div>\n",
       "<style scoped>\n",
       "    .dataframe tbody tr th:only-of-type {\n",
       "        vertical-align: middle;\n",
       "    }\n",
       "\n",
       "    .dataframe tbody tr th {\n",
       "        vertical-align: top;\n",
       "    }\n",
       "\n",
       "    .dataframe thead th {\n",
       "        text-align: right;\n",
       "    }\n",
       "</style>\n",
       "<table border=\"1\" class=\"dataframe\">\n",
       "  <thead>\n",
       "    <tr style=\"text-align: right;\">\n",
       "      <th></th>\n",
       "      <th>TrackID</th>\n",
       "      <th>Predictor</th>\n",
       "    </tr>\n",
       "  </thead>\n",
       "  <tbody>\n",
       "    <tr>\n",
       "      <th>0</th>\n",
       "      <td>199810_208019</td>\n",
       "      <td>0</td>\n",
       "    </tr>\n",
       "    <tr>\n",
       "      <th>1</th>\n",
       "      <td>199810_74139</td>\n",
       "      <td>0</td>\n",
       "    </tr>\n",
       "    <tr>\n",
       "      <th>2</th>\n",
       "      <td>199810_9903</td>\n",
       "      <td>0</td>\n",
       "    </tr>\n",
       "    <tr>\n",
       "      <th>3</th>\n",
       "      <td>199810_242681</td>\n",
       "      <td>1</td>\n",
       "    </tr>\n",
       "    <tr>\n",
       "      <th>4</th>\n",
       "      <td>199810_18515</td>\n",
       "      <td>1</td>\n",
       "    </tr>\n",
       "    <tr>\n",
       "      <th>...</th>\n",
       "      <td>...</td>\n",
       "      <td>...</td>\n",
       "    </tr>\n",
       "    <tr>\n",
       "      <th>119995</th>\n",
       "      <td>249010_72192</td>\n",
       "      <td>0</td>\n",
       "    </tr>\n",
       "    <tr>\n",
       "      <th>119996</th>\n",
       "      <td>249010_86104</td>\n",
       "      <td>0</td>\n",
       "    </tr>\n",
       "    <tr>\n",
       "      <th>119997</th>\n",
       "      <td>249010_186634</td>\n",
       "      <td>1</td>\n",
       "    </tr>\n",
       "    <tr>\n",
       "      <th>119998</th>\n",
       "      <td>249010_293818</td>\n",
       "      <td>0</td>\n",
       "    </tr>\n",
       "    <tr>\n",
       "      <th>119999</th>\n",
       "      <td>249010_262811</td>\n",
       "      <td>1</td>\n",
       "    </tr>\n",
       "  </tbody>\n",
       "</table>\n",
       "<p>120000 rows × 2 columns</p>\n",
       "</div>"
      ],
      "text/plain": [
       "              TrackID  Predictor\n",
       "0       199810_208019          0\n",
       "1        199810_74139          0\n",
       "2         199810_9903          0\n",
       "3       199810_242681          1\n",
       "4        199810_18515          1\n",
       "...               ...        ...\n",
       "119995   249010_72192          0\n",
       "119996   249010_86104          0\n",
       "119997  249010_186634          1\n",
       "119998  249010_293818          0\n",
       "119999  249010_262811          1\n",
       "\n",
       "[120000 rows x 2 columns]"
      ]
     },
     "execution_count": 36,
     "metadata": {},
     "output_type": "execute_result"
    }
   ],
   "source": [
    "output"
   ]
  },
  {
   "cell_type": "code",
   "execution_count": 41,
   "metadata": {},
   "outputs": [],
   "source": [
    "output.to_csv('./data_new/Improved_Logit_Classifier_Suggestions.csv', index=False)"
   ]
  },
  {
   "cell_type": "markdown",
   "metadata": {},
   "source": [
    "# ____________________________________________________________________"
   ]
  },
  {
   "cell_type": "code",
   "execution_count": 42,
   "metadata": {},
   "outputs": [
    {
     "name": "stdout",
     "output_type": "stream",
     "text": [
      "+------+-------+-----+--------------------+--------------+----------+\n",
      "|userID|trackID|label|         probability| rawPrediction|prediction|\n",
      "+------+-------+-----+--------------------+--------------+----------+\n",
      "|209946|  14994|  0.0|[0.81373989713445...|[2215.0,507.0]|       0.0|\n",
      "|209946| 263727|  0.0|[0.81373989713445...|[2215.0,507.0]|       0.0|\n",
      "|209946| 186039|  0.0|[0.81373989713445...|[2215.0,507.0]|       0.0|\n",
      "|209946|  72035|  1.0|[0.09194831013916...|[185.0,1827.0]|       1.0|\n",
      "|209946| 215312|  1.0|[0.09194831013916...|[185.0,1827.0]|       1.0|\n",
      "|209946|  77246|  1.0|[0.09194831013916...|[185.0,1827.0]|       1.0|\n",
      "+------+-------+-----+--------------------+--------------+----------+\n",
      "only showing top 6 rows\n",
      "\n"
     ]
    }
   ],
   "source": [
    "# decision tree classifier in pySpark\n",
    "\n",
    "from pyspark.ml.classification import DecisionTreeClassifier\n",
    "dt = DecisionTreeClassifier(featuresCol = 'features', labelCol = 'label',maxDepth = 3)\n",
    "dtModel = dt.fit(train)\n",
    "predictions = dtModel.transform(test)\n",
    "sort_predictions = predictions.select('userID', 'trackID', \n",
    "                   'label', 'probability', \n",
    "                   'rawPrediction', 'prediction' ).sort(col(\"userID\").asc(), col(\"probability\").desc())\n",
    "sort_predictions.show(6)"
   ]
  },
  {
   "cell_type": "code",
   "execution_count": 44,
   "metadata": {},
   "outputs": [],
   "source": [
    "predictions_Test = dtModel.transform(test_df)"
   ]
  },
  {
   "cell_type": "code",
   "execution_count": 45,
   "metadata": {},
   "outputs": [],
   "source": [
    "preds = predictions_Test.select('userID', 'trackID', 'probability').toPandas()"
   ]
  },
  {
   "cell_type": "code",
   "execution_count": 46,
   "metadata": {},
   "outputs": [],
   "source": [
    "preds.probability = preds.probability.apply(lambda x: x[1])"
   ]
  },
  {
   "cell_type": "code",
   "execution_count": 47,
   "metadata": {},
   "outputs": [],
   "source": [
    "prob_ranked = preds.groupby(['userID'], sort=False).probability.apply(ss.rankdata, method='ordinal').reset_index(drop=True)"
   ]
  },
  {
   "cell_type": "code",
   "execution_count": 48,
   "metadata": {},
   "outputs": [],
   "source": [
    "prob_ranked = pd.DataFrame(np.array(prob_ranked.to_list()).reshape(120000,-1))"
   ]
  },
  {
   "cell_type": "code",
   "execution_count": 49,
   "metadata": {},
   "outputs": [],
   "source": [
    "preds['rank'] = prob_ranked"
   ]
  },
  {
   "cell_type": "code",
   "execution_count": 50,
   "metadata": {},
   "outputs": [],
   "source": [
    "prob_ranked[prob_ranked<=3] = 0\n",
    "prob_ranked[prob_ranked!=0] = 1"
   ]
  },
  {
   "cell_type": "code",
   "execution_count": 51,
   "metadata": {},
   "outputs": [],
   "source": [
    "preds['Predictor'] = prob_ranked"
   ]
  },
  {
   "cell_type": "code",
   "execution_count": 52,
   "metadata": {},
   "outputs": [
    {
     "data": {
      "text/html": [
       "<div>\n",
       "<style scoped>\n",
       "    .dataframe tbody tr th:only-of-type {\n",
       "        vertical-align: middle;\n",
       "    }\n",
       "\n",
       "    .dataframe tbody tr th {\n",
       "        vertical-align: top;\n",
       "    }\n",
       "\n",
       "    .dataframe thead th {\n",
       "        text-align: right;\n",
       "    }\n",
       "</style>\n",
       "<table border=\"1\" class=\"dataframe\">\n",
       "  <thead>\n",
       "    <tr style=\"text-align: right;\">\n",
       "      <th></th>\n",
       "      <th>userID</th>\n",
       "      <th>trackID</th>\n",
       "      <th>probability</th>\n",
       "      <th>rank</th>\n",
       "      <th>Predictor</th>\n",
       "    </tr>\n",
       "  </thead>\n",
       "  <tbody>\n",
       "    <tr>\n",
       "      <th>972</th>\n",
       "      <td>200176</td>\n",
       "      <td>74079</td>\n",
       "      <td>0.186260</td>\n",
       "      <td>1</td>\n",
       "      <td>0</td>\n",
       "    </tr>\n",
       "    <tr>\n",
       "      <th>973</th>\n",
       "      <td>200176</td>\n",
       "      <td>141029</td>\n",
       "      <td>0.186260</td>\n",
       "      <td>2</td>\n",
       "      <td>0</td>\n",
       "    </tr>\n",
       "    <tr>\n",
       "      <th>974</th>\n",
       "      <td>200176</td>\n",
       "      <td>216094</td>\n",
       "      <td>0.186260</td>\n",
       "      <td>3</td>\n",
       "      <td>0</td>\n",
       "    </tr>\n",
       "    <tr>\n",
       "      <th>975</th>\n",
       "      <td>200176</td>\n",
       "      <td>213072</td>\n",
       "      <td>0.908052</td>\n",
       "      <td>6</td>\n",
       "      <td>1</td>\n",
       "    </tr>\n",
       "    <tr>\n",
       "      <th>976</th>\n",
       "      <td>200176</td>\n",
       "      <td>213238</td>\n",
       "      <td>0.186260</td>\n",
       "      <td>4</td>\n",
       "      <td>1</td>\n",
       "    </tr>\n",
       "    <tr>\n",
       "      <th>977</th>\n",
       "      <td>200176</td>\n",
       "      <td>135745</td>\n",
       "      <td>0.186260</td>\n",
       "      <td>5</td>\n",
       "      <td>1</td>\n",
       "    </tr>\n",
       "  </tbody>\n",
       "</table>\n",
       "</div>"
      ],
      "text/plain": [
       "     userID  trackID  probability  rank  Predictor\n",
       "972  200176    74079     0.186260     1          0\n",
       "973  200176   141029     0.186260     2          0\n",
       "974  200176   216094     0.186260     3          0\n",
       "975  200176   213072     0.908052     6          1\n",
       "976  200176   213238     0.186260     4          1\n",
       "977  200176   135745     0.186260     5          1"
      ]
     },
     "execution_count": 52,
     "metadata": {},
     "output_type": "execute_result"
    }
   ],
   "source": [
    "preds[preds['userID'] == 200176]"
   ]
  },
  {
   "cell_type": "code",
   "execution_count": 53,
   "metadata": {},
   "outputs": [],
   "source": [
    "output = pd.DataFrame()\n",
    "output['TrackID'] = preds['userID'].astype(str) + '_' + preds['trackID'].astype(str)\n",
    "output['Predictor'] = preds['Predictor']"
   ]
  },
  {
   "cell_type": "code",
   "execution_count": 54,
   "metadata": {},
   "outputs": [
    {
     "data": {
      "text/html": [
       "<div>\n",
       "<style scoped>\n",
       "    .dataframe tbody tr th:only-of-type {\n",
       "        vertical-align: middle;\n",
       "    }\n",
       "\n",
       "    .dataframe tbody tr th {\n",
       "        vertical-align: top;\n",
       "    }\n",
       "\n",
       "    .dataframe thead th {\n",
       "        text-align: right;\n",
       "    }\n",
       "</style>\n",
       "<table border=\"1\" class=\"dataframe\">\n",
       "  <thead>\n",
       "    <tr style=\"text-align: right;\">\n",
       "      <th></th>\n",
       "      <th>TrackID</th>\n",
       "      <th>Predictor</th>\n",
       "    </tr>\n",
       "  </thead>\n",
       "  <tbody>\n",
       "    <tr>\n",
       "      <th>0</th>\n",
       "      <td>199810_208019</td>\n",
       "      <td>0</td>\n",
       "    </tr>\n",
       "    <tr>\n",
       "      <th>1</th>\n",
       "      <td>199810_74139</td>\n",
       "      <td>0</td>\n",
       "    </tr>\n",
       "    <tr>\n",
       "      <th>2</th>\n",
       "      <td>199810_9903</td>\n",
       "      <td>0</td>\n",
       "    </tr>\n",
       "    <tr>\n",
       "      <th>3</th>\n",
       "      <td>199810_242681</td>\n",
       "      <td>1</td>\n",
       "    </tr>\n",
       "    <tr>\n",
       "      <th>4</th>\n",
       "      <td>199810_18515</td>\n",
       "      <td>1</td>\n",
       "    </tr>\n",
       "    <tr>\n",
       "      <th>...</th>\n",
       "      <td>...</td>\n",
       "      <td>...</td>\n",
       "    </tr>\n",
       "    <tr>\n",
       "      <th>119995</th>\n",
       "      <td>249010_72192</td>\n",
       "      <td>0</td>\n",
       "    </tr>\n",
       "    <tr>\n",
       "      <th>119996</th>\n",
       "      <td>249010_86104</td>\n",
       "      <td>0</td>\n",
       "    </tr>\n",
       "    <tr>\n",
       "      <th>119997</th>\n",
       "      <td>249010_186634</td>\n",
       "      <td>1</td>\n",
       "    </tr>\n",
       "    <tr>\n",
       "      <th>119998</th>\n",
       "      <td>249010_293818</td>\n",
       "      <td>0</td>\n",
       "    </tr>\n",
       "    <tr>\n",
       "      <th>119999</th>\n",
       "      <td>249010_262811</td>\n",
       "      <td>1</td>\n",
       "    </tr>\n",
       "  </tbody>\n",
       "</table>\n",
       "<p>120000 rows × 2 columns</p>\n",
       "</div>"
      ],
      "text/plain": [
       "              TrackID  Predictor\n",
       "0       199810_208019          0\n",
       "1        199810_74139          0\n",
       "2         199810_9903          0\n",
       "3       199810_242681          1\n",
       "4        199810_18515          1\n",
       "...               ...        ...\n",
       "119995   249010_72192          0\n",
       "119996   249010_86104          0\n",
       "119997  249010_186634          1\n",
       "119998  249010_293818          0\n",
       "119999  249010_262811          1\n",
       "\n",
       "[120000 rows x 2 columns]"
      ]
     },
     "execution_count": 54,
     "metadata": {},
     "output_type": "execute_result"
    }
   ],
   "source": [
    "output"
   ]
  },
  {
   "cell_type": "code",
   "execution_count": 55,
   "metadata": {},
   "outputs": [],
   "source": [
    "output.to_csv('./data_new/Improved_DT_Classifier_Suggestions.csv', index=False)"
   ]
  },
  {
   "cell_type": "markdown",
   "metadata": {},
   "source": [
    "# ____________________________________________________________________"
   ]
  },
  {
   "cell_type": "code",
   "execution_count": 56,
   "metadata": {},
   "outputs": [
    {
     "name": "stdout",
     "output_type": "stream",
     "text": [
      "+------+-------+-----+--------------------+--------------------+----------+\n",
      "|userID|trackID|label|         probability|       rawPrediction|prediction|\n",
      "+------+-------+-----+--------------------+--------------------+----------+\n",
      "|209946| 263727|  0.0|[0.81278039770199...|[16.2556079540399...|       0.0|\n",
      "|209946| 186039|  0.0|[0.80124934329660...|[16.0249868659321...|       0.0|\n",
      "|209946|  14994|  0.0|[0.72729118934888...|[14.5458237869777...|       0.0|\n",
      "|209946|  72035|  1.0|[0.02944732330771...|[0.58894646615429...|       1.0|\n",
      "|209946|  77246|  1.0|[0.02926811096410...|[0.58536221928218...|       1.0|\n",
      "|209946| 215312|  1.0|[0.01955600625367...|[0.39112012507346...|       1.0|\n",
      "+------+-------+-----+--------------------+--------------------+----------+\n",
      "only showing top 6 rows\n",
      "\n"
     ]
    }
   ],
   "source": [
    "# random forest classifier in pySpark\n",
    "\n",
    "from pyspark.ml.classification import RandomForestClassifier\n",
    "rf = RandomForestClassifier(featuresCol = 'features', labelCol = 'label')\n",
    "rfModel = rf.fit(train)\n",
    "predictions = rfModel.transform(test)\n",
    "sort_predictions = predictions.select('userID', 'trackID', \n",
    "                   'label', 'probability', \n",
    "                   'rawPrediction', 'prediction' ).sort(col(\"userID\").asc(), col(\"probability\").desc())\n",
    "sort_predictions.show(6)"
   ]
  },
  {
   "cell_type": "code",
   "execution_count": 58,
   "metadata": {},
   "outputs": [],
   "source": [
    "predictions_Test = rfModel.transform(test_df)"
   ]
  },
  {
   "cell_type": "code",
   "execution_count": 59,
   "metadata": {},
   "outputs": [],
   "source": [
    "preds = predictions_Test.select('userID', 'trackID', 'probability').toPandas()"
   ]
  },
  {
   "cell_type": "code",
   "execution_count": 60,
   "metadata": {},
   "outputs": [],
   "source": [
    "preds.probability = preds.probability.apply(lambda x: x[1])"
   ]
  },
  {
   "cell_type": "code",
   "execution_count": 61,
   "metadata": {},
   "outputs": [],
   "source": [
    "prob_ranked = preds.groupby(['userID'], sort=False).probability.apply(ss.rankdata, method='ordinal').reset_index(drop=True)"
   ]
  },
  {
   "cell_type": "code",
   "execution_count": 62,
   "metadata": {},
   "outputs": [],
   "source": [
    "prob_ranked = pd.DataFrame(np.array(prob_ranked.to_list()).reshape(120000,-1))"
   ]
  },
  {
   "cell_type": "code",
   "execution_count": 63,
   "metadata": {},
   "outputs": [],
   "source": [
    "preds['rank'] = prob_ranked"
   ]
  },
  {
   "cell_type": "code",
   "execution_count": 64,
   "metadata": {},
   "outputs": [],
   "source": [
    "prob_ranked[prob_ranked<=3] = 0\n",
    "prob_ranked[prob_ranked!=0] = 1"
   ]
  },
  {
   "cell_type": "code",
   "execution_count": 65,
   "metadata": {},
   "outputs": [],
   "source": [
    "preds['Predictor'] = prob_ranked"
   ]
  },
  {
   "cell_type": "code",
   "execution_count": 66,
   "metadata": {},
   "outputs": [
    {
     "data": {
      "text/html": [
       "<div>\n",
       "<style scoped>\n",
       "    .dataframe tbody tr th:only-of-type {\n",
       "        vertical-align: middle;\n",
       "    }\n",
       "\n",
       "    .dataframe tbody tr th {\n",
       "        vertical-align: top;\n",
       "    }\n",
       "\n",
       "    .dataframe thead th {\n",
       "        text-align: right;\n",
       "    }\n",
       "</style>\n",
       "<table border=\"1\" class=\"dataframe\">\n",
       "  <thead>\n",
       "    <tr style=\"text-align: right;\">\n",
       "      <th></th>\n",
       "      <th>userID</th>\n",
       "      <th>trackID</th>\n",
       "      <th>probability</th>\n",
       "      <th>rank</th>\n",
       "      <th>Predictor</th>\n",
       "    </tr>\n",
       "  </thead>\n",
       "  <tbody>\n",
       "    <tr>\n",
       "      <th>972</th>\n",
       "      <td>200176</td>\n",
       "      <td>74079</td>\n",
       "      <td>0.339117</td>\n",
       "      <td>5</td>\n",
       "      <td>1</td>\n",
       "    </tr>\n",
       "    <tr>\n",
       "      <th>973</th>\n",
       "      <td>200176</td>\n",
       "      <td>141029</td>\n",
       "      <td>0.170142</td>\n",
       "      <td>1</td>\n",
       "      <td>0</td>\n",
       "    </tr>\n",
       "    <tr>\n",
       "      <th>974</th>\n",
       "      <td>200176</td>\n",
       "      <td>216094</td>\n",
       "      <td>0.274621</td>\n",
       "      <td>3</td>\n",
       "      <td>0</td>\n",
       "    </tr>\n",
       "    <tr>\n",
       "      <th>975</th>\n",
       "      <td>200176</td>\n",
       "      <td>213072</td>\n",
       "      <td>0.969069</td>\n",
       "      <td>6</td>\n",
       "      <td>1</td>\n",
       "    </tr>\n",
       "    <tr>\n",
       "      <th>976</th>\n",
       "      <td>200176</td>\n",
       "      <td>213238</td>\n",
       "      <td>0.274621</td>\n",
       "      <td>4</td>\n",
       "      <td>1</td>\n",
       "    </tr>\n",
       "    <tr>\n",
       "      <th>977</th>\n",
       "      <td>200176</td>\n",
       "      <td>135745</td>\n",
       "      <td>0.170142</td>\n",
       "      <td>2</td>\n",
       "      <td>0</td>\n",
       "    </tr>\n",
       "  </tbody>\n",
       "</table>\n",
       "</div>"
      ],
      "text/plain": [
       "     userID  trackID  probability  rank  Predictor\n",
       "972  200176    74079     0.339117     5          1\n",
       "973  200176   141029     0.170142     1          0\n",
       "974  200176   216094     0.274621     3          0\n",
       "975  200176   213072     0.969069     6          1\n",
       "976  200176   213238     0.274621     4          1\n",
       "977  200176   135745     0.170142     2          0"
      ]
     },
     "execution_count": 66,
     "metadata": {},
     "output_type": "execute_result"
    }
   ],
   "source": [
    "preds[preds['userID'] == 200176]"
   ]
  },
  {
   "cell_type": "code",
   "execution_count": 67,
   "metadata": {},
   "outputs": [],
   "source": [
    "output = pd.DataFrame()\n",
    "output['TrackID'] = preds['userID'].astype(str) + '_' + preds['trackID'].astype(str)\n",
    "output['Predictor'] = preds['Predictor']"
   ]
  },
  {
   "cell_type": "code",
   "execution_count": 68,
   "metadata": {},
   "outputs": [
    {
     "data": {
      "text/html": [
       "<div>\n",
       "<style scoped>\n",
       "    .dataframe tbody tr th:only-of-type {\n",
       "        vertical-align: middle;\n",
       "    }\n",
       "\n",
       "    .dataframe tbody tr th {\n",
       "        vertical-align: top;\n",
       "    }\n",
       "\n",
       "    .dataframe thead th {\n",
       "        text-align: right;\n",
       "    }\n",
       "</style>\n",
       "<table border=\"1\" class=\"dataframe\">\n",
       "  <thead>\n",
       "    <tr style=\"text-align: right;\">\n",
       "      <th></th>\n",
       "      <th>TrackID</th>\n",
       "      <th>Predictor</th>\n",
       "    </tr>\n",
       "  </thead>\n",
       "  <tbody>\n",
       "    <tr>\n",
       "      <th>0</th>\n",
       "      <td>199810_208019</td>\n",
       "      <td>0</td>\n",
       "    </tr>\n",
       "    <tr>\n",
       "      <th>1</th>\n",
       "      <td>199810_74139</td>\n",
       "      <td>1</td>\n",
       "    </tr>\n",
       "    <tr>\n",
       "      <th>2</th>\n",
       "      <td>199810_9903</td>\n",
       "      <td>0</td>\n",
       "    </tr>\n",
       "    <tr>\n",
       "      <th>3</th>\n",
       "      <td>199810_242681</td>\n",
       "      <td>0</td>\n",
       "    </tr>\n",
       "    <tr>\n",
       "      <th>4</th>\n",
       "      <td>199810_18515</td>\n",
       "      <td>1</td>\n",
       "    </tr>\n",
       "    <tr>\n",
       "      <th>...</th>\n",
       "      <td>...</td>\n",
       "      <td>...</td>\n",
       "    </tr>\n",
       "    <tr>\n",
       "      <th>119995</th>\n",
       "      <td>249010_72192</td>\n",
       "      <td>0</td>\n",
       "    </tr>\n",
       "    <tr>\n",
       "      <th>119996</th>\n",
       "      <td>249010_86104</td>\n",
       "      <td>0</td>\n",
       "    </tr>\n",
       "    <tr>\n",
       "      <th>119997</th>\n",
       "      <td>249010_186634</td>\n",
       "      <td>1</td>\n",
       "    </tr>\n",
       "    <tr>\n",
       "      <th>119998</th>\n",
       "      <td>249010_293818</td>\n",
       "      <td>0</td>\n",
       "    </tr>\n",
       "    <tr>\n",
       "      <th>119999</th>\n",
       "      <td>249010_262811</td>\n",
       "      <td>1</td>\n",
       "    </tr>\n",
       "  </tbody>\n",
       "</table>\n",
       "<p>120000 rows × 2 columns</p>\n",
       "</div>"
      ],
      "text/plain": [
       "              TrackID  Predictor\n",
       "0       199810_208019          0\n",
       "1        199810_74139          1\n",
       "2         199810_9903          0\n",
       "3       199810_242681          0\n",
       "4        199810_18515          1\n",
       "...               ...        ...\n",
       "119995   249010_72192          0\n",
       "119996   249010_86104          0\n",
       "119997  249010_186634          1\n",
       "119998  249010_293818          0\n",
       "119999  249010_262811          1\n",
       "\n",
       "[120000 rows x 2 columns]"
      ]
     },
     "execution_count": 68,
     "metadata": {},
     "output_type": "execute_result"
    }
   ],
   "source": [
    "output"
   ]
  },
  {
   "cell_type": "code",
   "execution_count": 69,
   "metadata": {},
   "outputs": [],
   "source": [
    "output.to_csv('./data_new/Improved_RF_Classifier_Suggestions.csv', index=False)"
   ]
  },
  {
   "cell_type": "markdown",
   "metadata": {},
   "source": [
    "# ____________________________________________________________________"
   ]
  },
  {
   "cell_type": "code",
   "execution_count": 70,
   "metadata": {},
   "outputs": [
    {
     "name": "stdout",
     "output_type": "stream",
     "text": [
      "+------+-------+-----+--------------------+--------------------+----------+\n",
      "|userID|trackID|label|         probability|       rawPrediction|prediction|\n",
      "+------+-------+-----+--------------------+--------------------+----------+\n",
      "|209946| 263727|  0.0|[0.89796858605126...|[1.08742716990348...|       0.0|\n",
      "|209946| 186039|  0.0|[0.89255964425906...|[1.05857873822339...|       0.0|\n",
      "|209946|  14994|  0.0|[0.83434488400757...|[0.80836941712292...|       0.0|\n",
      "|209946|  77246|  1.0|[0.07173136374483...|[-1.2801965437323...|       1.0|\n",
      "|209946|  72035|  1.0|[0.07012284694753...|[-1.2924019118120...|       1.0|\n",
      "|209946| 215312|  1.0|[0.06808405663052...|[-1.3082497761903...|       1.0|\n",
      "+------+-------+-----+--------------------+--------------------+----------+\n",
      "only showing top 6 rows\n",
      "\n"
     ]
    }
   ],
   "source": [
    "# Gradient-Boosted Tree Classifier\n",
    "\n",
    "from pyspark.ml.classification import GBTClassifier\n",
    "gbt = GBTClassifier(maxIter=10)\n",
    "gbtModel = gbt.fit(train)\n",
    "predictions = gbtModel.transform(test)\n",
    "sort_predictions = predictions.select('userID', 'trackID', \n",
    "                   'label', 'probability', \n",
    "                   'rawPrediction', 'prediction' ).sort(col(\"userID\").asc(), col(\"probability\").desc())\n",
    "sort_predictions.show(6)"
   ]
  },
  {
   "cell_type": "code",
   "execution_count": 71,
   "metadata": {},
   "outputs": [],
   "source": [
    "predictions_Test = gbtModel.transform(test_df)"
   ]
  },
  {
   "cell_type": "code",
   "execution_count": 72,
   "metadata": {},
   "outputs": [],
   "source": [
    "preds = predictions_Test.select('userID', 'trackID', 'probability').toPandas()"
   ]
  },
  {
   "cell_type": "code",
   "execution_count": 73,
   "metadata": {},
   "outputs": [],
   "source": [
    "preds.probability = preds.probability.apply(lambda x: x[1])"
   ]
  },
  {
   "cell_type": "code",
   "execution_count": 74,
   "metadata": {},
   "outputs": [],
   "source": [
    "prob_ranked = preds.groupby(['userID'], sort=False).probability.apply(ss.rankdata, method='ordinal').reset_index(drop=True)"
   ]
  },
  {
   "cell_type": "code",
   "execution_count": 75,
   "metadata": {},
   "outputs": [],
   "source": [
    "prob_ranked = pd.DataFrame(np.array(prob_ranked.to_list()).reshape(120000,-1))"
   ]
  },
  {
   "cell_type": "code",
   "execution_count": 76,
   "metadata": {},
   "outputs": [],
   "source": [
    "preds['rank'] = prob_ranked"
   ]
  },
  {
   "cell_type": "code",
   "execution_count": 77,
   "metadata": {},
   "outputs": [],
   "source": [
    "prob_ranked[prob_ranked<=3] = 0\n",
    "prob_ranked[prob_ranked!=0] = 1"
   ]
  },
  {
   "cell_type": "code",
   "execution_count": 78,
   "metadata": {},
   "outputs": [],
   "source": [
    "preds['Predictor'] = prob_ranked"
   ]
  },
  {
   "cell_type": "code",
   "execution_count": 79,
   "metadata": {},
   "outputs": [
    {
     "data": {
      "text/html": [
       "<div>\n",
       "<style scoped>\n",
       "    .dataframe tbody tr th:only-of-type {\n",
       "        vertical-align: middle;\n",
       "    }\n",
       "\n",
       "    .dataframe tbody tr th {\n",
       "        vertical-align: top;\n",
       "    }\n",
       "\n",
       "    .dataframe thead th {\n",
       "        text-align: right;\n",
       "    }\n",
       "</style>\n",
       "<table border=\"1\" class=\"dataframe\">\n",
       "  <thead>\n",
       "    <tr style=\"text-align: right;\">\n",
       "      <th></th>\n",
       "      <th>userID</th>\n",
       "      <th>trackID</th>\n",
       "      <th>probability</th>\n",
       "      <th>rank</th>\n",
       "      <th>Predictor</th>\n",
       "    </tr>\n",
       "  </thead>\n",
       "  <tbody>\n",
       "    <tr>\n",
       "      <th>972</th>\n",
       "      <td>200176</td>\n",
       "      <td>74079</td>\n",
       "      <td>0.326307</td>\n",
       "      <td>5</td>\n",
       "      <td>1</td>\n",
       "    </tr>\n",
       "    <tr>\n",
       "      <th>973</th>\n",
       "      <td>200176</td>\n",
       "      <td>141029</td>\n",
       "      <td>0.170206</td>\n",
       "      <td>1</td>\n",
       "      <td>0</td>\n",
       "    </tr>\n",
       "    <tr>\n",
       "      <th>974</th>\n",
       "      <td>200176</td>\n",
       "      <td>216094</td>\n",
       "      <td>0.274029</td>\n",
       "      <td>3</td>\n",
       "      <td>0</td>\n",
       "    </tr>\n",
       "    <tr>\n",
       "      <th>975</th>\n",
       "      <td>200176</td>\n",
       "      <td>213072</td>\n",
       "      <td>0.934027</td>\n",
       "      <td>6</td>\n",
       "      <td>1</td>\n",
       "    </tr>\n",
       "    <tr>\n",
       "      <th>976</th>\n",
       "      <td>200176</td>\n",
       "      <td>213238</td>\n",
       "      <td>0.274029</td>\n",
       "      <td>4</td>\n",
       "      <td>1</td>\n",
       "    </tr>\n",
       "    <tr>\n",
       "      <th>977</th>\n",
       "      <td>200176</td>\n",
       "      <td>135745</td>\n",
       "      <td>0.170206</td>\n",
       "      <td>2</td>\n",
       "      <td>0</td>\n",
       "    </tr>\n",
       "  </tbody>\n",
       "</table>\n",
       "</div>"
      ],
      "text/plain": [
       "     userID  trackID  probability  rank  Predictor\n",
       "972  200176    74079     0.326307     5          1\n",
       "973  200176   141029     0.170206     1          0\n",
       "974  200176   216094     0.274029     3          0\n",
       "975  200176   213072     0.934027     6          1\n",
       "976  200176   213238     0.274029     4          1\n",
       "977  200176   135745     0.170206     2          0"
      ]
     },
     "execution_count": 79,
     "metadata": {},
     "output_type": "execute_result"
    }
   ],
   "source": [
    "preds[preds['userID'] == 200176]"
   ]
  },
  {
   "cell_type": "code",
   "execution_count": 80,
   "metadata": {},
   "outputs": [],
   "source": [
    "output = pd.DataFrame()\n",
    "output['TrackID'] = preds['userID'].astype(str) + '_' + preds['trackID'].astype(str)\n",
    "output['Predictor'] = preds['Predictor']"
   ]
  },
  {
   "cell_type": "code",
   "execution_count": 81,
   "metadata": {},
   "outputs": [
    {
     "data": {
      "text/html": [
       "<div>\n",
       "<style scoped>\n",
       "    .dataframe tbody tr th:only-of-type {\n",
       "        vertical-align: middle;\n",
       "    }\n",
       "\n",
       "    .dataframe tbody tr th {\n",
       "        vertical-align: top;\n",
       "    }\n",
       "\n",
       "    .dataframe thead th {\n",
       "        text-align: right;\n",
       "    }\n",
       "</style>\n",
       "<table border=\"1\" class=\"dataframe\">\n",
       "  <thead>\n",
       "    <tr style=\"text-align: right;\">\n",
       "      <th></th>\n",
       "      <th>TrackID</th>\n",
       "      <th>Predictor</th>\n",
       "    </tr>\n",
       "  </thead>\n",
       "  <tbody>\n",
       "    <tr>\n",
       "      <th>0</th>\n",
       "      <td>199810_208019</td>\n",
       "      <td>0</td>\n",
       "    </tr>\n",
       "    <tr>\n",
       "      <th>1</th>\n",
       "      <td>199810_74139</td>\n",
       "      <td>1</td>\n",
       "    </tr>\n",
       "    <tr>\n",
       "      <th>2</th>\n",
       "      <td>199810_9903</td>\n",
       "      <td>0</td>\n",
       "    </tr>\n",
       "    <tr>\n",
       "      <th>3</th>\n",
       "      <td>199810_242681</td>\n",
       "      <td>0</td>\n",
       "    </tr>\n",
       "    <tr>\n",
       "      <th>4</th>\n",
       "      <td>199810_18515</td>\n",
       "      <td>1</td>\n",
       "    </tr>\n",
       "    <tr>\n",
       "      <th>...</th>\n",
       "      <td>...</td>\n",
       "      <td>...</td>\n",
       "    </tr>\n",
       "    <tr>\n",
       "      <th>119995</th>\n",
       "      <td>249010_72192</td>\n",
       "      <td>0</td>\n",
       "    </tr>\n",
       "    <tr>\n",
       "      <th>119996</th>\n",
       "      <td>249010_86104</td>\n",
       "      <td>0</td>\n",
       "    </tr>\n",
       "    <tr>\n",
       "      <th>119997</th>\n",
       "      <td>249010_186634</td>\n",
       "      <td>1</td>\n",
       "    </tr>\n",
       "    <tr>\n",
       "      <th>119998</th>\n",
       "      <td>249010_293818</td>\n",
       "      <td>0</td>\n",
       "    </tr>\n",
       "    <tr>\n",
       "      <th>119999</th>\n",
       "      <td>249010_262811</td>\n",
       "      <td>1</td>\n",
       "    </tr>\n",
       "  </tbody>\n",
       "</table>\n",
       "<p>120000 rows × 2 columns</p>\n",
       "</div>"
      ],
      "text/plain": [
       "              TrackID  Predictor\n",
       "0       199810_208019          0\n",
       "1        199810_74139          1\n",
       "2         199810_9903          0\n",
       "3       199810_242681          0\n",
       "4        199810_18515          1\n",
       "...               ...        ...\n",
       "119995   249010_72192          0\n",
       "119996   249010_86104          0\n",
       "119997  249010_186634          1\n",
       "119998  249010_293818          0\n",
       "119999  249010_262811          1\n",
       "\n",
       "[120000 rows x 2 columns]"
      ]
     },
     "execution_count": 81,
     "metadata": {},
     "output_type": "execute_result"
    }
   ],
   "source": [
    "output"
   ]
  },
  {
   "cell_type": "code",
   "execution_count": 82,
   "metadata": {},
   "outputs": [],
   "source": [
    "output.to_csv('./data_new/Improved_GBT_Classifier_Suggestions.csv', index=False)"
   ]
  },
  {
   "cell_type": "code",
   "execution_count": null,
   "metadata": {},
   "outputs": [],
   "source": []
  }
 ],
 "metadata": {
  "kernelspec": {
   "display_name": "Python 3",
   "language": "python",
   "name": "python3"
  },
  "language_info": {
   "codemirror_mode": {
    "name": "ipython",
    "version": 3
   },
   "file_extension": ".py",
   "mimetype": "text/x-python",
   "name": "python",
   "nbconvert_exporter": "python",
   "pygments_lexer": "ipython3",
   "version": "3.6.4"
  }
 },
 "nbformat": 4,
 "nbformat_minor": 4
}
